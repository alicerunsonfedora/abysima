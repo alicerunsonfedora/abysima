{
 "cells": [
  {
   "cell_type": "markdown",
   "source": [
    "# Project Abysima: Generating a Language with Machine Learning\n",
    "\n",
    "The following notebook will experiment with generating a language using neural networks and generative deep learning.\n",
    "This is, by no means, a production-ready system, nor is it a complete network; rather, the purpose of this experiment\n",
    "is to see what is possible with creating a language.\n",
    "\n",
    "For more information on the process and supporting research, please refer to the Linguistics Paper document found in the\n",
    "`01 - Areas of Responsibility` directory.\n",
    "\n",
    "The following source code and datasets are licensed under the Mozilla Public License v2.0. Please refer to the LICENSE\n",
    "file that came with this repository for more information on what your rights are with usage and modification of this\n",
    "software. If a LICENSE file is not provided, you can obtain a copy at https://www.mozilla.org/en-US/MPL/2.0/.\n"
   ],
   "metadata": {
    "pycharm": {
     "name": "#%% md\n"
    }
   }
  },
  {
   "cell_type": "markdown",
   "source": [
    "## Part 1: Initial Setup\n",
    "\n",
    "We'll need to write some utilities and codes that will allow us to generate, predict, and validate words. This\n",
    "section will allow us to do just that.\n"
   ],
   "metadata": {}
  },
  {
   "cell_type": "code",
   "execution_count": 96,
   "source": [
    "# Unix-based and Unix-like systems have a file on the computer that contains a list of words used for spell-checking.\n",
    "# This file is located in /usr/share/dict/words and contains various parts of speech, including proper nouns. For the\n",
    "# purposes of this experiment, a copy provided from an installation of Pop!_OS 20.04 LTS (based on Ubuntu) will be used.\n",
    "# If that file cannot be located, the file located on the system will be used instead.\n",
    "import os\n",
    "\n",
    "\n",
    "def is_admissible(word: str) -> bool:\n",
    "    \"\"\"Returns whether a word is considered admissible for the dataset.\n",
    "    \n",
    "    For the purposes of the dataset, a word is admissible if it conforms to the following:\n",
    "    - The word only contains ASCII characters; i.e., the word does not have any accents.\n",
    "    - The word only contains letters in the alphabet\n",
    "    - The word is not a proper noun or acronym (i.e., the word doesn't have uppercase letters)\n",
    "    - The word is not a contraction.\n",
    "    \"\"\"\n",
    "    real_word = word.strip()\n",
    "    return real_word.isascii() and real_word.isalpha() and real_word.islower(\n",
    "    ) and not real_word.endswith(\"'s\")\n",
    "\n",
    "\n",
    "# Open the words file and grab all of the admissible words.\n",
    "WORDS_FILE = \"outside_sources/words\" if os.path.isfile(\n",
    "    \"outside_sources/words\") else \"/usr/share/dict/words\"\n",
    "with open(WORDS_FILE, 'r') as words:\n",
    "    valid_words = [\n",
    "        w.strip().lower() for w in words.readlines() if is_admissible(w)\n",
    "    ]\n",
    "print(f\"Number of admissible words from {WORDS_FILE}: {len(valid_words)}\")\n",
    "\n",
    "# Open the converted dataset from the Wiktionary page and import that into the list of valid words.\n",
    "with open(\"outside_sources/jp-romaji.txt\") as jp_data:\n",
    "    valid_words += [w.strip().lower() for w in jp_data.readlines()]\n",
    "\n",
    "print(f\"Number of total words including Japanese words: {len(valid_words)}\")\n"
   ],
   "outputs": [
    {
     "output_type": "stream",
     "name": "stdout",
     "text": [
      "Number of admissible words from outside_sources/words: 63248\n",
      "Number of total words including Japanese words: 63863\n"
     ]
    }
   ],
   "metadata": {
    "scrolled": true
   }
  },
  {
   "cell_type": "code",
   "execution_count": 97,
   "source": [
    "# Create a bunch of nonsencial words that are not valid.\n",
    "from random import randrange\n",
    "from string import ascii_lowercase\n",
    "\n",
    "\n",
    "def random_string() -> str:\n",
    "    \"\"\"Returns a string of a random length between 3 and 12 characters, with no syllabic structure in mind.\"\"\"\n",
    "    length = randrange(3, 12)\n",
    "    string = \"\"\n",
    "    for _ in range(length):\n",
    "        next_index = randrange(0, len(ascii_lowercase) - 1)\n",
    "        string += ascii_lowercase[next_index]\n",
    "    return string\n",
    "\n",
    "\n",
    "invalid = [random_string() for _ in range(len(valid_words))]\n",
    "print(invalid[:10])"
   ],
   "outputs": [
    {
     "output_type": "stream",
     "name": "stdout",
     "text": [
      "['wqqtfb', 'ffe', 'pjtnkg', 'tnutuixpv', 'aaw', 'brghj', 'twmck', 'yullhymu', 'nwdmgrt', 'viplhgb']\n"
     ]
    }
   ],
   "metadata": {
    "scrolled": false
   }
  },
  {
   "cell_type": "code",
   "execution_count": 98,
   "source": [
    "# Grab the contents of the test dictionary, which contains completely randomly-generated words from the random word\n",
    "# generator defined in random_strings. These words follow common syllabic structures and will be filtered according to\n",
    "# what the network defines as a valid word later.\n",
    "\n",
    "with open(\"test_dict.txt\", \"r\") as dict_file:\n",
    "    test_dict = [word.strip() for word in dict_file.readlines()]\n",
    "\n",
    "print(test_dict[:10])"
   ],
   "outputs": [
    {
     "output_type": "stream",
     "name": "stdout",
     "text": [
      "['xewetov', 'rskyesphbdj', 'wudnanvo', 'does', 'doowkguy', 'qtasvymmeq', 'hihebuxa', 'kftealnlhnp', 'gevhenly', 'deacgiecj']\n"
     ]
    }
   ],
   "metadata": {}
  },
  {
   "cell_type": "code",
   "execution_count": 99,
   "source": [
    "# Assemble the dataset with the valid and invalid words. Words that are valid will be marked as 1 for its output,\n",
    "# and words that are not valid are marked as 0 for its output.\n",
    "from string import ascii_lowercase\n",
    "import numpy as np\n",
    "\n",
    "\n",
    "def map_word(word: str) -> list:\n",
    "    \"\"\"Returns a list of numbers from 1 to 26 that represent the various letters in the alphabet.\"\"\"\n",
    "    get_idx = lambda i: ascii_lowercase.index(i) + 1\n",
    "    return [get_idx(c) for c in word]\n",
    "\n",
    "\n",
    "# Fill any shorter words with the maximum length of the words. For words shorter than the word with the most\n",
    "# characters, a 0 will be subsistuted to keep the length of features consistent.\n",
    "def fill_word_features(word: list, fill_length: int) -> list:\n",
    "    if len(word) >= fill_length:\n",
    "        return word\n",
    "    diff = fill_length - len(word)\n",
    "    return [0 for i in range(diff)] + word\n",
    "\n",
    "\n",
    "# Get the length of the longest word in the valid words dataset.\n",
    "max_len = max([len(str(w)) for w in valid_words])\n",
    "print(f\"Longest word length: {max_len}\")\n",
    "\n",
    "# Encode the data set into a format that the neural network will be able to understand.\n",
    "encoded_correct = [map_word(str(word)) for word in valid_words]\n",
    "# encoded_correct = []\n",
    "# for word in valid_words:\n",
    "#     print(word)\n",
    "#     encoded_correct.append(map_word(word))\n",
    "encoded_correct = [fill_word_features(w, max_len) for w in encoded_correct]\n",
    "\n",
    "encoded_invalid = [map_word(str(word)) for word in invalid]\n",
    "encoded_invalid = [fill_word_features(w, max_len) for w in encoded_invalid]\n",
    "\n",
    "# Map the values with their corresponding outputs.\n",
    "mapped_correct = [word + [1] for word in encoded_correct]\n",
    "mapped_invalid = [word + [0] for word in encoded_invalid]\n",
    "\n",
    "dataset = mapped_correct + mapped_invalid\n",
    "\n",
    "# Shuffle the dataset around.\n",
    "from random import shuffle\n",
    "for _ in range(20):\n",
    "    shuffle(dataset)\n",
    "\n",
    "# Cast the dataset to a numpy array, and split the features from the expected output.\n",
    "dataset = np.array(dataset)\n",
    "X = dataset[:, :-1]\n",
    "Y = dataset[:, -1]\n",
    "\n",
    "# Divide values by 26 (the number of letters in the alphabet). Doing this will make sure our data remains consistent,\n",
    "# and that we are not stating that Z is 26 times more important and A. This process is known as normalization.\n",
    "X = X / 26\n",
    "\n",
    "# Print the first two entries in the dataset as an example.\n",
    "print(X[:2])\n",
    "print(Y[:2])"
   ],
   "outputs": [
    {
     "output_type": "stream",
     "name": "stdout",
     "text": [
      "Longest word length: 22\n",
      "[[0.         0.         0.         0.         0.         0.\n",
      "  0.         0.         0.         0.         0.         0.\n",
      "  0.         0.61538462 0.96153846 0.84615385 0.57692308 0.34615385\n",
      "  0.61538462 0.5        0.69230769 0.5       ]\n",
      " [0.         0.         0.         0.         0.         0.\n",
      "  0.         0.         0.         0.         0.         0.\n",
      "  0.         0.         0.         0.         0.03846154 0.23076923\n",
      "  0.76923077 0.19230769 0.61538462 0.53846154]]\n",
      "[0 0]\n"
     ]
    }
   ],
   "metadata": {
    "scrolled": true
   }
  },
  {
   "cell_type": "markdown",
   "source": [
    "## Part 2: Splitting Models for Validation and Testing\n",
    "\n",
    "In order to prevent the neural network we will generate from overcorrecting itself or memorizing the data we give\n",
    "it, we will create three different sets of the dataset: a training set, a validation set, and a testing set. The\n",
    "training set will be used to train the model, and the model will use the validation set occasionally to validate\n",
    "that it isn't overfitting. We will then use the testing set to test out the model and see what comes out of it.\n",
    "\n",
    "To accomplish this, we will use a 60% training/20% validation/20% testing split for the datasets.\n"
   ],
   "metadata": {}
  },
  {
   "cell_type": "code",
   "execution_count": 100,
   "source": [
    "# Split the data in training and testing data. When we fit the model, we can specify a validation set.\n",
    "from sklearn.model_selection import train_test_split\n",
    "\n",
    "X_train, X_test, y_train, y_test = train_test_split(X, Y, test_size=0.2)"
   ],
   "outputs": [],
   "metadata": {}
  },
  {
   "cell_type": "markdown",
   "source": [
    "## Part 3: Creating The Predictive Model\n",
    "\n",
    "Now that we have a dataset, we will create the neural network model with Keras and fit it using the training data.\n",
    "This will also use a small portion of that data for validation purposes.\n"
   ],
   "metadata": {}
  },
  {
   "cell_type": "code",
   "execution_count": 101,
   "source": [
    "# Start by creating the model.\n",
    "from tensorflow import keras\n",
    "from tensorflow.keras.layers import Dense\n",
    "from tensorflow.keras.callbacks import EarlyStopping\n",
    "\n",
    "print(keras.__version__)\n",
    "\n",
    "model = keras.Sequential(name=\"Abysima_2\")\n",
    "model.add(Dense(max_len, input_dim=max_len, activation='relu'))\n",
    "model.add(Dense(max_len * 4, activation='relu'))\n",
    "# model.add(Dense(max_len/4, activation='relu'))\n",
    "model.add(Dense(1, activation='softmax'))\n",
    "\n",
    "# Create an early stopping mechanism to stop early if accuracy isn't improving after a certain point. This prevents\n",
    "# unnecessary computations.\n",
    "stop_early = EarlyStopping(monitor='accuracy', patience=7)\n",
    "\n",
    "# Compile the model.\n",
    "model.compile(loss='categorical_crossentropy',\n",
    "              optimizer='adam',\n",
    "              metrics=['accuracy'])\n",
    "model.summary()"
   ],
   "outputs": [
    {
     "output_type": "stream",
     "name": "stdout",
     "text": [
      "2.6.0\n",
      "Model: \"Abysima_2\"\n",
      "_________________________________________________________________\n",
      "Layer (type)                 Output Shape              Param #   \n",
      "=================================================================\n",
      "dense_25 (Dense)             (None, 22)                506       \n",
      "_________________________________________________________________\n",
      "dense_26 (Dense)             (None, 88)                2024      \n",
      "_________________________________________________________________\n",
      "dense_27 (Dense)             (None, 1)                 89        \n",
      "=================================================================\n",
      "Total params: 2,619\n",
      "Trainable params: 2,619\n",
      "Non-trainable params: 0\n",
      "_________________________________________________________________\n"
     ]
    }
   ],
   "metadata": {}
  },
  {
   "cell_type": "code",
   "execution_count": 102,
   "source": [
    "# Fit the model to our dataset. In this instance, the model will run a batch gradient descent learning algorithm\n",
    "# for 100 epochs with a determined batch size. Additionally, it will set aside 20% of the data for validation.\n",
    "training_results = model.fit(X_train,\n",
    "                             y_train,\n",
    "                             epochs=100,\n",
    "                             batch_size=128,\n",
    "                             verbose=1,\n",
    "                             validation_split=0.2,\n",
    "                             callbacks=[stop_early])\n"
   ],
   "outputs": [
    {
     "output_type": "stream",
     "name": "stdout",
     "text": [
      "Epoch 1/100\n",
      " 17/639 [..............................] - ETA: 4s - loss: 0.0000e+00 - accuracy: 0.5074"
     ]
    },
    {
     "output_type": "stream",
     "name": "stderr",
     "text": [
      "2021-10-19 21:05:10.875285: I tensorflow/core/grappler/optimizers/custom_graph_optimizer_registry.cc:112] Plugin optimizer for device_type GPU is enabled.\n"
     ]
    },
    {
     "output_type": "stream",
     "name": "stdout",
     "text": [
      "636/639 [============================>.] - ETA: 0s - loss: 0.0000e+00 - accuracy: 0.4995"
     ]
    },
    {
     "output_type": "stream",
     "name": "stderr",
     "text": [
      "2021-10-19 21:05:14.755563: I tensorflow/core/grappler/optimizers/custom_graph_optimizer_registry.cc:112] Plugin optimizer for device_type GPU is enabled.\n"
     ]
    },
    {
     "output_type": "stream",
     "name": "stdout",
     "text": [
      "639/639 [==============================] - 5s 7ms/step - loss: 0.0000e+00 - accuracy: 0.4995 - val_loss: 0.0000e+00 - val_accuracy: 0.5025\n",
      "Epoch 2/100\n",
      "639/639 [==============================] - 4s 7ms/step - loss: 0.0000e+00 - accuracy: 0.4995 - val_loss: 0.0000e+00 - val_accuracy: 0.5025\n",
      "Epoch 3/100\n",
      "639/639 [==============================] - 4s 7ms/step - loss: 0.0000e+00 - accuracy: 0.4995 - val_loss: 0.0000e+00 - val_accuracy: 0.5025\n",
      "Epoch 4/100\n",
      "639/639 [==============================] - 4s 7ms/step - loss: 0.0000e+00 - accuracy: 0.4995 - val_loss: 0.0000e+00 - val_accuracy: 0.5025\n",
      "Epoch 5/100\n",
      "639/639 [==============================] - 4s 7ms/step - loss: 0.0000e+00 - accuracy: 0.4995 - val_loss: 0.0000e+00 - val_accuracy: 0.5025\n",
      "Epoch 6/100\n",
      "639/639 [==============================] - 4s 7ms/step - loss: 0.0000e+00 - accuracy: 0.4995 - val_loss: 0.0000e+00 - val_accuracy: 0.5025\n",
      "Epoch 7/100\n",
      "639/639 [==============================] - 4s 7ms/step - loss: 0.0000e+00 - accuracy: 0.4995 - val_loss: 0.0000e+00 - val_accuracy: 0.5025\n",
      "Epoch 8/100\n",
      "639/639 [==============================] - 4s 7ms/step - loss: 0.0000e+00 - accuracy: 0.4995 - val_loss: 0.0000e+00 - val_accuracy: 0.5025\n"
     ]
    }
   ],
   "metadata": {
    "scrolled": false
   }
  },
  {
   "cell_type": "code",
   "execution_count": 103,
   "source": [
    "# Plot the accuracy and loss changes for comparison. If we see an overlap, there may be overfitting involved.\n",
    "from matplotlib import pyplot as plt\n",
    "\n",
    "plt.plot(training_results.history['accuracy'],\n",
    "         label='Accuracy over iterations')\n",
    "plt.plot(training_results.history['loss'], label='Loss over iterations')\n",
    "plt.legend()"
   ],
   "outputs": [
    {
     "output_type": "execute_result",
     "data": {
      "text/plain": [
       "<matplotlib.legend.Legend at 0x16ab2ddf0>"
      ]
     },
     "metadata": {},
     "execution_count": 103
    },
    {
     "output_type": "display_data",
     "data": {
      "image/png": "[encoded data removed]",
      "text/plain": [
       "<Figure size 432x288 with 1 Axes>"
      ]
     },
     "metadata": {
      "needs_background": "light"
     }
    }
   ],
   "metadata": {}
  },
  {
   "cell_type": "code",
   "execution_count": 104,
   "source": [
    "plt.plot(training_results.history['val_accuracy'],\n",
    "         label='Validation accuracy over iterations')\n",
    "plt.plot(training_results.history['val_loss'],\n",
    "         label='Validation loss over iterations')\n",
    "plt.legend()"
   ],
   "outputs": [
    {
     "output_type": "execute_result",
     "data": {
      "text/plain": [
       "<matplotlib.legend.Legend at 0x15f5a4dc0>"
      ]
     },
     "metadata": {},
     "execution_count": 104
    },
    {
     "output_type": "display_data",
     "data": {
      "image/png": "[encoded data removed]",
      "text/plain": [
       "<Figure size 432x288 with 1 Axes>"
      ]
     },
     "metadata": {
      "needs_background": "light"
     }
    }
   ],
   "metadata": {}
  },
  {
   "cell_type": "markdown",
   "source": [
    "## Part 4: Testing with the Testing Set\n",
    "\n",
    "Now that the model is trained, we will use the testing set to test the results of the model's fitting process.\n"
   ],
   "metadata": {}
  },
  {
   "cell_type": "code",
   "execution_count": 105,
   "source": [
    "# Predict the testing data.\n",
    "test_predictions = model.predict(X_test)\n",
    "\n",
    "\n",
    "def unmap_word(word: list) -> str:\n",
    "    \"\"\"Returns a string from a list of numbers from 0 to 1 that represent the different letters of the alphabet.\n",
    "    \n",
    "    For numbers less than or equal to zero, they are skipped since they are not valid entries.\n",
    "    \"\"\"\n",
    "    result = \"\"\n",
    "    for num in word:\n",
    "        if num < 1:\n",
    "            continue\n",
    "        result = result + ascii_lowercase[int(num) - 1]\n",
    "    return result\n",
    "\n",
    "\n",
    "# Go through each of the predictions and store the number of predictions it got correct, and capture any failed\n",
    "# predictions for inspection.\n",
    "number_correct = 0\n",
    "errors = []\n",
    "for idx, prediction in enumerate(test_predictions):\n",
    "    actual = y_test[idx]\n",
    "    if prediction == actual:\n",
    "        number_correct += 1\n",
    "    else:\n",
    "        errors.append((idx, prediction, actual))\n",
    "\n",
    "# Calculate the accuracy percentage.\n",
    "accuracy_percentage = (number_correct / len(y_test)) * 100\n",
    "print(f\"Percent correct: {accuracy_percentage:02f}%\")\n",
    "print(f\"Number of incorrect predictions: {len(y_test) - number_correct}\")\n",
    "\n",
    "# Print the first five of the incorrect predictions.\n",
    "print(\"===Incorrect Predictions===\")\n",
    "for idx, pred, act in errors[:5]:\n",
    "    word = unmap_word(X_test[idx] * 26)\n",
    "    pred_str = \"valid\" if pred else \"invalid\"\n",
    "    act_str = \"valid\" if act else \"invalid\"\n",
    "    print(\n",
    "        f\"Prediction was {pred_str},\\t where actual was {act_str}\\t\\tWord: {word}\"\n",
    "    )\n"
   ],
   "outputs": [
    {
     "output_type": "stream",
     "name": "stderr",
     "text": [
      "2021-10-19 21:05:45.238402: I tensorflow/core/grappler/optimizers/custom_graph_optimizer_registry.cc:112] Plugin optimizer for device_type GPU is enabled.\n"
     ]
    },
    {
     "output_type": "stream",
     "name": "stdout",
     "text": [
      "Percent correct: 49.949111%\n",
      "Number of incorrect predictions: 12786\n",
      "===Incorrect Predictions===\n",
      "Prediction was valid,\t where actual was invalid\t\tWord: wfteh\n",
      "Prediction was valid,\t where actual was invalid\t\tWord: fnqsnnuks\n",
      "Prediction was valid,\t where actual was invalid\t\tWord: tcgvf\n",
      "Prediction was valid,\t where actual was invalid\t\tWord: ttgnxr\n",
      "Prediction was valid,\t where actual was invalid\t\tWord: rymdbju\n"
     ]
    }
   ],
   "metadata": {}
  },
  {
   "cell_type": "markdown",
   "source": [
    "## Part 5: Filtering Out \"Invalid\" Words in the Test Dictionary\n",
    "\n",
    "Now that we have model that seems to be reasonably accurate, we can use our test dictionary to filter out words\n",
    "that the network considers invalid.\n"
   ],
   "metadata": {}
  },
  {
   "cell_type": "code",
   "execution_count": 106,
   "source": [
    "# Encode the test_dict the same way we encoded the dataset.\n",
    "encoded_test = [map_word(w) for w in test_dict]\n",
    "encoded_test = [fill_word_features(w, max_len) for w in encoded_test]\n",
    "\n",
    "# Make predictions of the test_dict and collect all of the words it considered valid.\n",
    "dict_predictions = model.predict(encoded_test)\n",
    "valid_dictionary = []\n",
    "for idx, prediction in enumerate(dict_predictions):\n",
    "    if prediction == 0:\n",
    "        continue\n",
    "    valid_dictionary.append(test_dict[idx])\n",
    "\n",
    "# Print some of the valid words, as well as how big the list actually is.\n",
    "trim_count = len(test_dict) - len(valid_dictionary)\n",
    "print(\n",
    "    f\"Trimmed {trim_count} invalid words from the test dictionary (now size {len(test_dict)}).\"\n",
    ")\n",
    "print(valid_dictionary[:10])\n"
   ],
   "outputs": [
    {
     "output_type": "stream",
     "name": "stdout",
     "text": [
      "Trimmed 0 invalid words from the test dictionary (now size 500).\n",
      "['xewetov', 'rskyesphbdj', 'wudnanvo', 'does', 'doowkguy', 'qtasvymmeq', 'hihebuxa', 'kftealnlhnp', 'gevhenly', 'deacgiecj']\n"
     ]
    },
    {
     "output_type": "stream",
     "name": "stderr",
     "text": [
      "2021-10-19 21:05:45.974969: I tensorflow/core/grappler/optimizers/custom_graph_optimizer_registry.cc:112] Plugin optimizer for device_type GPU is enabled.\n"
     ]
    }
   ],
   "metadata": {}
  }
 ],
 "metadata": {
  "interpreter": {
   "hash": "2525e10832b7ba92743f6be5b80dfb53422b22d81bf31403f095ad9684056cbf"
  },
  "kernelspec": {
   "name": "python3",
   "display_name": "Python 3.9.7 64-bit ('env_tensorflow': conda)"
  },
  "language_info": {
   "codemirror_mode": {
    "name": "ipython",
    "version": 3
   },
   "file_extension": ".py",
   "mimetype": "text/x-python",
   "name": "python",
   "nbconvert_exporter": "python",
   "pygments_lexer": "ipython3",
   "version": "3.9.7"
  }
 },
 "nbformat": 4,
 "nbformat_minor": 2
}