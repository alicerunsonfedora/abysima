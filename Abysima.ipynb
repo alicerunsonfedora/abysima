{
 "cells": [
  {
   "cell_type": "markdown",
   "metadata": {
    "pycharm": {
     "name": "#%% md\n"
    }
   },
   "source": [
    "# Project Abysima: Generating a Language with Machine Learning\n",
    "\n",
    "The following notebook will experiment with generating a language using neural networks and generative deep learning.\n",
    "This is, by no means, a production-ready system, nor is it a complete network; rather, the purpose of this experiment\n",
    "is to see what is possible with creating a language.\n",
    "\n",
    "For more information on the process and supporting research, please refer to the Linguistics Paper document found in the\n",
    "`01 - Areas of Responsibility` directory.\n",
    "\n",
    "The following source code and datasets are licensed under the Mozilla Public License v2.0. Please refer to the LICENSE\n",
    "file that came with this repository for more information on what your rights are with usage and modification of this\n",
    "software. If a LICENSE file is not provided, you can obtain a copy at https://www.mozilla.org/en-US/MPL/2.0/.\n"
   ]
  },
  {
   "cell_type": "markdown",
   "metadata": {},
   "source": [
    "## Part 1: Initial Setup\n",
    "\n",
    "We'll need to write some utilities and codes that will allow us to generate, predict, and validate words. This\n",
    "section will allow us to do just that.\n"
   ]
  },
  {
   "cell_type": "code",
   "execution_count": 64,
   "metadata": {
    "scrolled": true
   },
   "outputs": [
    {
     "name": "stdout",
     "output_type": "stream",
     "text": [
      "Number of admissible words from outside_sources/words: 63160\n",
      "Number of total words including Japanese words: 63775\n"
     ]
    }
   ],
   "source": [
    "# Unix-based and Unix-like systems have a file on the computer that contains a list of words used for spell-checking.\n",
    "# This file is located in /usr/share/dict/words and contains various parts of speech, including proper nouns. For the\n",
    "# purposes of this experiment, a copy provided from an installation of Pop!_OS 20.04 LTS (based on Ubuntu) will be used.\n",
    "# If that file cannot be located, the file located on the system will be used instead.\n",
    "import os\n",
    "\n",
    "\n",
    "def is_admissible(word: str) -> bool:\n",
    "    \"\"\"Returns whether a word is considered admissible for the dataset.\n",
    "    \n",
    "    For the purposes of the dataset, a word is admissible if it conforms to the following:\n",
    "    - The word must be at least three characters long.\n",
    "    - The word only contains ASCII characters; i.e., the word does not have any accents.\n",
    "    - The word only contains letters in the alphabet\n",
    "    - The word is not a proper noun or acronym (i.e., the word doesn't have uppercase letters)\n",
    "    - The word is not a contraction.\n",
    "    \"\"\"\n",
    "    real_word = word.strip()\n",
    "    return len(real_word) >= 3 and real_word.isascii() and real_word.isalpha() and real_word.islower(\n",
    "    ) and not real_word.endswith(\"'s\")\n",
    "\n",
    "\n",
    "# Open the words file and grab all of the admissible words.\n",
    "WORDS_FILE = \"outside_sources/words\" if os.path.isfile(\n",
    "    \"outside_sources/words\") else \"/usr/share/dict/words\"\n",
    "with open(WORDS_FILE, 'r') as words:\n",
    "    valid_words = [\n",
    "        w.strip().lower() for w in words.readlines() if is_admissible(w)\n",
    "    ]\n",
    "print(f\"Number of admissible words from {WORDS_FILE}: {len(valid_words)}\")\n",
    "\n",
    "# Open the converted dataset from the Wiktionary page and import that into the list of valid words.\n",
    "with open(\"outside_sources/jp-romaji.txt\") as jp_data:\n",
    "    valid_words += [w.strip().lower() for w in jp_data.readlines()]\n",
    "\n",
    "original_valid = valid_words.copy()\n",
    "\n",
    "print(f\"Number of total words including Japanese words: {len(valid_words)}\")\n"
   ]
  },
  {
   "cell_type": "code",
   "execution_count": 65,
   "metadata": {
    "scrolled": false
   },
   "outputs": [],
   "source": [
    "# Create a bunch of nonsencial words that are not valid.\n",
    "from random import randrange\n",
    "from string import ascii_lowercase\n",
    "\n",
    "\n",
    "def random_string(max_size: int) -> str:\n",
    "    \"\"\"Returns a string of a random length between 3 and 12 characters, with no syllabic structure in mind.\"\"\"\n",
    "    length = randrange(3, max_size) if max_size > 3 else 3\n",
    "    string = \"\"\n",
    "    for _ in range(length):\n",
    "        next_index = randrange(0, len(ascii_lowercase) - 1)\n",
    "        string += ascii_lowercase[next_index]\n",
    "    return string\n",
    "\n",
    "# Assemble the dataset with the valid and invalid words. Words that are valid will be marked as 1 for its output,\n",
    "# and words that are not valid are marked as 0 for its output.\n",
    "from string import ascii_lowercase\n",
    "import numpy as np\n",
    "\n",
    "\n",
    "def map_word(word: str) -> list:\n",
    "    \"\"\"Returns a list of numbers from 1 to 26 that represent the various letters in the alphabet.\"\"\"\n",
    "    get_idx = lambda i: ascii_lowercase.index(i) + 1\n",
    "    return [get_idx(c) for c in word]"
   ]
  },
  {
   "cell_type": "code",
   "execution_count": 66,
   "metadata": {
    "scrolled": true
   },
   "outputs": [
    {
     "name": "stdout",
     "output_type": "stream",
     "text": [
      "Average word length: 8\n",
      "Filtered dataset size based on average length: 35691\n",
      "['icsb', 'qxmvlw', 'jdjkgh', 'xgk', 'cxs', 'tfc', 'iolqnbx', 'cnhhk', 'bajre', 'ucbgdf']\n",
      "[[0.03846154 0.03846154 0.69230769 0.15384615 0.84615385 0.03846154\n",
      "  0.69230769 0.42307692]\n",
      " [0.03846154 0.07692308 0.03846154 0.11538462 0.34615385 0.\n",
      "  0.         0.        ]\n",
      " [0.03846154 0.07692308 0.03846154 0.11538462 0.42307692 0.\n",
      "  0.         0.        ]\n",
      " [0.03846154 0.07692308 0.03846154 0.11538462 0.80769231 0.73076923\n",
      "  0.         0.        ]\n",
      " [0.03846154 0.07692308 0.03846154 0.11538462 0.80769231 0.73076923\n",
      "  0.19230769 0.73076923]]\n"
     ]
    }
   ],
   "source": [
    "from tensorflow.keras.preprocessing.sequence import pad_sequences\n",
    "\n",
    "# Get the average length of words in the dataset, and filter out any words larger than the average length.\n",
    "avg_length = sum([len(str(w)) for w in valid_words]) // len(valid_words)\n",
    "print(f\"Average word length: {avg_length}\")\n",
    "valid_words = [w for w in valid_words if len(w) <= avg_length]\n",
    "print(f\"Filtered dataset size based on average length: {len(valid_words)}\")\n",
    "\n",
    "# Create nonsensical words that match the average length.\n",
    "invalid = [random_string(avg_length) for _ in range(len(valid_words))]\n",
    "print(invalid[:10])\n",
    "\n",
    "# Encode the data set into a format that the neural network will be able to understand.\n",
    "encoded_correct = [map_word(str(word)) for word in valid_words]\n",
    "encoded_invalid = [map_word(str(word)) for word in invalid]\n",
    "\n",
    "Y_correct   = [[1] for _ in range(len(encoded_correct))]\n",
    "Y_incorrect = [[0] for _ in range(len(encoded_invalid))]\n",
    "\n",
    "# Use padding to make all the words the same length, adding zeroes at the end.\n",
    "pre_padded_X = np.array(encoded_correct + encoded_invalid, dtype=object)\n",
    "X = pad_sequences(pre_padded_X, padding=\"post\", maxlen=avg_length)\n",
    "\n",
    "# Divide the dataset's elements by the number of letters in the alphabet to normalize the data.\n",
    "X = X / 26\n",
    "Y = np.array(Y_correct + Y_incorrect)\n",
    "\n",
    "# print(X.shape)\n",
    "print(X[:5])"
   ]
  },
  {
   "cell_type": "markdown",
   "metadata": {},
   "source": [
    "## Part 2: Splitting Models for Validation and Testing\n",
    "\n",
    "In order to prevent the neural network we will generate from overcorrecting itself or memorizing the data we give\n",
    "it, we will create three different sets of the dataset: a training set, a validation set, and a testing set. The\n",
    "training set will be used to train the model, and the model will use the validation set occasionally to validate\n",
    "that it isn't overfitting. We will then use the testing set to test out the model and see what comes out of it.\n",
    "\n",
    "To accomplish this, we will use a 60% training/20% validation/20% testing split for the datasets.\n"
   ]
  },
  {
   "cell_type": "code",
   "execution_count": 67,
   "metadata": {},
   "outputs": [],
   "source": [
    "# Split the data in training and testing data. When we fit the model, we can specify a validation set.\n",
    "from sklearn.model_selection import train_test_split\n",
    "\n",
    "X_train, X_test, y_train, y_test = train_test_split(X, Y, test_size=0.2, random_state=1498)"
   ]
  },
  {
   "cell_type": "markdown",
   "metadata": {},
   "source": [
    "## Part 3: Creating The Predictive Model\n",
    "\n",
    "Now that we have a dataset, we will create the neural network model with Keras and fit it using the training data.\n",
    "This will also use a small portion of that data for validation purposes.\n"
   ]
  },
  {
   "cell_type": "code",
   "execution_count": 68,
   "metadata": {},
   "outputs": [
    {
     "name": "stdout",
     "output_type": "stream",
     "text": [
      "2.6.0\n",
      "Model: \"Abysima_2\"\n",
      "_________________________________________________________________\n",
      "Layer (type)                 Output Shape              Param #   \n",
      "=================================================================\n",
      "dense_16 (Dense)             (None, 8)                 72        \n",
      "_________________________________________________________________\n",
      "dense_17 (Dense)             (None, 32)                288       \n",
      "_________________________________________________________________\n",
      "dense_18 (Dense)             (None, 1)                 33        \n",
      "=================================================================\n",
      "Total params: 393\n",
      "Trainable params: 393\n",
      "Non-trainable params: 0\n",
      "_________________________________________________________________\n"
     ]
    }
   ],
   "source": [
    "# Start by creating the model.\n",
    "from tensorflow import keras\n",
    "from tensorflow.keras.layers import Dense\n",
    "from tensorflow.keras.callbacks import EarlyStopping\n",
    "\n",
    "print(keras.__version__)\n",
    "\n",
    "init_model = keras.Sequential(name=\"Abysima_2\")\n",
    "init_model.add(Dense(avg_length, input_dim=avg_length, activation='relu'))\n",
    "init_model.add(Dense(avg_length * 4, activation='relu'))\n",
    "# model.add(Dense(max_len/4, activation='relu'))\n",
    "init_model.add(Dense(1, activation='softmax'))\n",
    "\n",
    "# Create an early stopping mechanism to stop early if accuracy isn't improving after a certain point. This prevents\n",
    "# unnecessary computations.\n",
    "stop_early = EarlyStopping(monitor='accuracy', patience=7)\n",
    "\n",
    "# Compile the model.\n",
    "init_model.compile(loss='binary_crossentropy',\n",
    "              optimizer='adam',\n",
    "              metrics=['accuracy'])\n",
    "init_model.summary()"
   ]
  },
  {
   "cell_type": "code",
   "execution_count": 69,
   "metadata": {
    "scrolled": false
   },
   "outputs": [
    {
     "name": "stdout",
     "output_type": "stream",
     "text": [
      "Epoch 1/100\n",
      " 10/714 [..............................] - ETA: 3s - loss: 0.7016 - accuracy: 0.4938  "
     ]
    },
    {
     "name": "stderr",
     "output_type": "stream",
     "text": [
      "2021-11-04 10:09:15.605188: I tensorflow/core/grappler/optimizers/custom_graph_optimizer_registry.cc:112] Plugin optimizer for device_type GPU is enabled.\n"
     ]
    },
    {
     "name": "stdout",
     "output_type": "stream",
     "text": [
      "714/714 [==============================] - ETA: 0s - loss: 0.5938 - accuracy: 0.4975"
     ]
    },
    {
     "name": "stderr",
     "output_type": "stream",
     "text": [
      "2021-11-04 10:09:18.976530: I tensorflow/core/grappler/optimizers/custom_graph_optimizer_registry.cc:112] Plugin optimizer for device_type GPU is enabled.\n"
     ]
    },
    {
     "name": "stdout",
     "output_type": "stream",
     "text": [
      "714/714 [==============================] - 4s 5ms/step - loss: 0.5938 - accuracy: 0.4975 - val_loss: 0.5387 - val_accuracy: 0.5037\n",
      "Epoch 2/100\n",
      "714/714 [==============================] - 3s 5ms/step - loss: 0.5237 - accuracy: 0.4975 - val_loss: 0.5122 - val_accuracy: 0.5037\n",
      "Epoch 3/100\n",
      "714/714 [==============================] - 4s 5ms/step - loss: 0.5089 - accuracy: 0.4975 - val_loss: 0.5035 - val_accuracy: 0.5037\n",
      "Epoch 4/100\n",
      "714/714 [==============================] - 3s 5ms/step - loss: 0.5045 - accuracy: 0.4975 - val_loss: 0.5002 - val_accuracy: 0.5037\n",
      "Epoch 5/100\n",
      "714/714 [==============================] - 4s 5ms/step - loss: 0.5019 - accuracy: 0.4975 - val_loss: 0.4975 - val_accuracy: 0.5037\n",
      "Epoch 6/100\n",
      "714/714 [==============================] - 3s 5ms/step - loss: 0.5001 - accuracy: 0.4975 - val_loss: 0.4997 - val_accuracy: 0.5037\n",
      "Epoch 7/100\n",
      "714/714 [==============================] - 3s 5ms/step - loss: 0.4993 - accuracy: 0.4975 - val_loss: 0.4962 - val_accuracy: 0.5037\n",
      "Epoch 8/100\n",
      "714/714 [==============================] - 3s 5ms/step - loss: 0.4985 - accuracy: 0.4975 - val_loss: 0.4978 - val_accuracy: 0.5037\n",
      "Epoch 9/100\n",
      "714/714 [==============================] - 4s 5ms/step - loss: 0.4978 - accuracy: 0.4975 - val_loss: 0.4959 - val_accuracy: 0.5037\n",
      "Epoch 10/100\n",
      "714/714 [==============================] - 3s 5ms/step - loss: 0.4973 - accuracy: 0.4975 - val_loss: 0.4963 - val_accuracy: 0.5037\n",
      "Epoch 11/100\n",
      "714/714 [==============================] - 3s 5ms/step - loss: 0.4977 - accuracy: 0.4975 - val_loss: 0.4939 - val_accuracy: 0.5037\n",
      "Epoch 12/100\n",
      "714/714 [==============================] - 4s 5ms/step - loss: 0.4969 - accuracy: 0.4975 - val_loss: 0.4937 - val_accuracy: 0.5037\n",
      "Epoch 13/100\n",
      "714/714 [==============================] - 3s 5ms/step - loss: 0.4969 - accuracy: 0.4975 - val_loss: 0.4938 - val_accuracy: 0.5037\n",
      "Epoch 14/100\n",
      "714/714 [==============================] - 3s 5ms/step - loss: 0.4965 - accuracy: 0.4975 - val_loss: 0.4935 - val_accuracy: 0.5037\n",
      "Epoch 15/100\n",
      "714/714 [==============================] - 3s 5ms/step - loss: 0.4963 - accuracy: 0.4975 - val_loss: 0.4926 - val_accuracy: 0.5037\n",
      "Epoch 16/100\n",
      "714/714 [==============================] - 3s 5ms/step - loss: 0.4966 - accuracy: 0.4975 - val_loss: 0.4929 - val_accuracy: 0.5037\n",
      "Epoch 17/100\n",
      "714/714 [==============================] - 3s 5ms/step - loss: 0.4961 - accuracy: 0.4975 - val_loss: 0.4921 - val_accuracy: 0.5037\n",
      "Epoch 18/100\n",
      "714/714 [==============================] - 3s 5ms/step - loss: 0.4960 - accuracy: 0.4975 - val_loss: 0.4934 - val_accuracy: 0.5037\n",
      "Epoch 19/100\n",
      "714/714 [==============================] - 3s 5ms/step - loss: 0.4951 - accuracy: 0.4975 - val_loss: 0.4929 - val_accuracy: 0.5037\n",
      "Epoch 20/100\n",
      "714/714 [==============================] - 4s 5ms/step - loss: 0.4949 - accuracy: 0.4975 - val_loss: 0.4911 - val_accuracy: 0.5037\n",
      "Epoch 21/100\n",
      "714/714 [==============================] - 3s 5ms/step - loss: 0.4942 - accuracy: 0.4975 - val_loss: 0.4981 - val_accuracy: 0.5037\n",
      "Epoch 22/100\n",
      "714/714 [==============================] - 3s 5ms/step - loss: 0.4935 - accuracy: 0.4975 - val_loss: 0.4903 - val_accuracy: 0.5037\n",
      "Epoch 23/100\n",
      "714/714 [==============================] - 3s 5ms/step - loss: 0.4929 - accuracy: 0.4975 - val_loss: 0.4931 - val_accuracy: 0.5037\n",
      "Epoch 24/100\n",
      "714/714 [==============================] - 3s 5ms/step - loss: 0.4925 - accuracy: 0.4975 - val_loss: 0.4891 - val_accuracy: 0.5037\n",
      "Epoch 25/100\n",
      "714/714 [==============================] - 3s 5ms/step - loss: 0.4922 - accuracy: 0.4975 - val_loss: 0.4933 - val_accuracy: 0.5037\n",
      "Epoch 26/100\n",
      "714/714 [==============================] - 3s 5ms/step - loss: 0.4916 - accuracy: 0.4975 - val_loss: 0.4884 - val_accuracy: 0.5037\n",
      "Epoch 27/100\n",
      "714/714 [==============================] - 3s 5ms/step - loss: 0.4916 - accuracy: 0.4975 - val_loss: 0.4891 - val_accuracy: 0.5037\n",
      "Epoch 28/100\n",
      "714/714 [==============================] - 3s 5ms/step - loss: 0.4912 - accuracy: 0.4975 - val_loss: 0.4874 - val_accuracy: 0.5037\n",
      "Epoch 29/100\n",
      "714/714 [==============================] - 3s 5ms/step - loss: 0.4905 - accuracy: 0.4975 - val_loss: 0.4910 - val_accuracy: 0.5037\n",
      "Epoch 30/100\n",
      "714/714 [==============================] - 3s 5ms/step - loss: 0.4898 - accuracy: 0.4975 - val_loss: 0.4867 - val_accuracy: 0.5037\n",
      "Epoch 31/100\n",
      "714/714 [==============================] - 3s 5ms/step - loss: 0.4897 - accuracy: 0.4975 - val_loss: 0.4854 - val_accuracy: 0.5037\n",
      "Epoch 32/100\n",
      "714/714 [==============================] - 3s 5ms/step - loss: 0.4892 - accuracy: 0.4975 - val_loss: 0.4844 - val_accuracy: 0.5037\n",
      "Epoch 33/100\n",
      "714/714 [==============================] - 3s 5ms/step - loss: 0.4884 - accuracy: 0.4975 - val_loss: 0.4867 - val_accuracy: 0.5037\n",
      "Epoch 34/100\n",
      "714/714 [==============================] - 3s 5ms/step - loss: 0.4881 - accuracy: 0.4975 - val_loss: 0.4846 - val_accuracy: 0.5037\n",
      "Epoch 35/100\n",
      "714/714 [==============================] - 3s 5ms/step - loss: 0.4874 - accuracy: 0.4975 - val_loss: 0.4839 - val_accuracy: 0.5037\n",
      "Epoch 36/100\n",
      "714/714 [==============================] - 3s 5ms/step - loss: 0.4866 - accuracy: 0.4975 - val_loss: 0.4826 - val_accuracy: 0.5037\n",
      "Epoch 37/100\n",
      "714/714 [==============================] - 3s 5ms/step - loss: 0.4861 - accuracy: 0.4975 - val_loss: 0.4828 - val_accuracy: 0.5037\n",
      "Epoch 38/100\n",
      "714/714 [==============================] - 3s 5ms/step - loss: 0.4852 - accuracy: 0.4975 - val_loss: 0.4825 - val_accuracy: 0.5037\n",
      "Epoch 39/100\n",
      "714/714 [==============================] - 3s 5ms/step - loss: 0.4850 - accuracy: 0.4975 - val_loss: 0.4809 - val_accuracy: 0.5037\n",
      "Epoch 40/100\n",
      "714/714 [==============================] - 3s 5ms/step - loss: 0.4841 - accuracy: 0.4975 - val_loss: 0.4823 - val_accuracy: 0.5037\n",
      "Epoch 41/100\n",
      "714/714 [==============================] - 3s 5ms/step - loss: 0.4834 - accuracy: 0.4975 - val_loss: 0.4812 - val_accuracy: 0.5037\n",
      "Epoch 42/100\n",
      "714/714 [==============================] - 3s 5ms/step - loss: 0.4826 - accuracy: 0.4975 - val_loss: 0.4843 - val_accuracy: 0.5037\n",
      "Epoch 43/100\n",
      "714/714 [==============================] - 3s 5ms/step - loss: 0.4824 - accuracy: 0.4975 - val_loss: 0.4845 - val_accuracy: 0.5037\n",
      "Epoch 44/100\n",
      "714/714 [==============================] - 3s 5ms/step - loss: 0.4817 - accuracy: 0.4975 - val_loss: 0.4784 - val_accuracy: 0.5037\n",
      "Epoch 45/100\n",
      "714/714 [==============================] - 3s 5ms/step - loss: 0.4813 - accuracy: 0.4975 - val_loss: 0.4786 - val_accuracy: 0.5037\n",
      "Epoch 46/100\n",
      "714/714 [==============================] - 3s 5ms/step - loss: 0.4806 - accuracy: 0.4975 - val_loss: 0.4774 - val_accuracy: 0.5037\n",
      "Epoch 47/100\n",
      "714/714 [==============================] - 3s 5ms/step - loss: 0.4800 - accuracy: 0.4975 - val_loss: 0.4787 - val_accuracy: 0.5037\n",
      "Epoch 48/100\n",
      "714/714 [==============================] - 3s 5ms/step - loss: 0.4790 - accuracy: 0.4975 - val_loss: 0.4796 - val_accuracy: 0.5037\n",
      "Epoch 49/100\n",
      "714/714 [==============================] - 3s 5ms/step - loss: 0.4789 - accuracy: 0.4975 - val_loss: 0.4790 - val_accuracy: 0.5037\n",
      "Epoch 50/100\n",
      "714/714 [==============================] - 3s 5ms/step - loss: 0.4787 - accuracy: 0.4975 - val_loss: 0.4764 - val_accuracy: 0.5037\n",
      "Epoch 51/100\n",
      "714/714 [==============================] - 3s 5ms/step - loss: 0.4784 - accuracy: 0.4975 - val_loss: 0.4809 - val_accuracy: 0.5037\n",
      "Epoch 52/100\n",
      "714/714 [==============================] - 3s 5ms/step - loss: 0.4781 - accuracy: 0.4975 - val_loss: 0.4764 - val_accuracy: 0.5037\n",
      "Epoch 53/100\n",
      "714/714 [==============================] - 3s 5ms/step - loss: 0.4780 - accuracy: 0.4975 - val_loss: 0.4764 - val_accuracy: 0.5037\n",
      "Epoch 54/100\n",
      "714/714 [==============================] - 3s 5ms/step - loss: 0.4771 - accuracy: 0.4975 - val_loss: 0.4895 - val_accuracy: 0.5037\n",
      "Epoch 55/100\n",
      "714/714 [==============================] - 3s 5ms/step - loss: 0.4772 - accuracy: 0.4975 - val_loss: 0.4757 - val_accuracy: 0.5037\n",
      "Epoch 56/100\n",
      "714/714 [==============================] - 3s 5ms/step - loss: 0.4765 - accuracy: 0.4975 - val_loss: 0.4755 - val_accuracy: 0.5037\n",
      "Epoch 57/100\n",
      "714/714 [==============================] - 3s 5ms/step - loss: 0.4765 - accuracy: 0.4975 - val_loss: 0.4776 - val_accuracy: 0.5037\n",
      "Epoch 58/100\n",
      "714/714 [==============================] - 3s 5ms/step - loss: 0.4757 - accuracy: 0.4975 - val_loss: 0.4772 - val_accuracy: 0.5037\n",
      "Epoch 59/100\n",
      "714/714 [==============================] - 3s 5ms/step - loss: 0.4759 - accuracy: 0.4975 - val_loss: 0.4757 - val_accuracy: 0.5037\n",
      "Epoch 60/100\n",
      "714/714 [==============================] - 3s 5ms/step - loss: 0.4760 - accuracy: 0.4975 - val_loss: 0.4757 - val_accuracy: 0.5037\n",
      "Epoch 61/100\n",
      "714/714 [==============================] - 3s 5ms/step - loss: 0.4755 - accuracy: 0.4975 - val_loss: 0.4751 - val_accuracy: 0.5037\n",
      "Epoch 62/100\n",
      "714/714 [==============================] - 3s 5ms/step - loss: 0.4752 - accuracy: 0.4975 - val_loss: 0.4764 - val_accuracy: 0.5037\n",
      "Epoch 63/100\n",
      "714/714 [==============================] - 3s 5ms/step - loss: 0.4754 - accuracy: 0.4975 - val_loss: 0.4747 - val_accuracy: 0.5037\n",
      "Epoch 64/100\n",
      "714/714 [==============================] - 3s 5ms/step - loss: 0.4752 - accuracy: 0.4975 - val_loss: 0.4775 - val_accuracy: 0.5037\n",
      "Epoch 65/100\n",
      "714/714 [==============================] - 3s 5ms/step - loss: 0.4754 - accuracy: 0.4975 - val_loss: 0.4748 - val_accuracy: 0.5037\n",
      "Epoch 66/100\n",
      "714/714 [==============================] - 3s 5ms/step - loss: 0.4748 - accuracy: 0.4975 - val_loss: 0.4763 - val_accuracy: 0.5037\n",
      "Epoch 67/100\n",
      "714/714 [==============================] - 3s 5ms/step - loss: 0.4744 - accuracy: 0.4975 - val_loss: 0.4768 - val_accuracy: 0.5037\n",
      "Epoch 68/100\n",
      "714/714 [==============================] - 3s 5ms/step - loss: 0.4740 - accuracy: 0.4975 - val_loss: 0.4758 - val_accuracy: 0.5037\n",
      "Epoch 69/100\n",
      "714/714 [==============================] - 3s 5ms/step - loss: 0.4743 - accuracy: 0.4975 - val_loss: 0.4767 - val_accuracy: 0.5037\n",
      "Epoch 70/100\n",
      "714/714 [==============================] - 3s 5ms/step - loss: 0.4740 - accuracy: 0.4975 - val_loss: 0.4758 - val_accuracy: 0.5037\n",
      "Epoch 71/100\n",
      "714/714 [==============================] - 3s 5ms/step - loss: 0.4740 - accuracy: 0.4975 - val_loss: 0.4768 - val_accuracy: 0.5037\n",
      "Epoch 72/100\n",
      "714/714 [==============================] - 3s 5ms/step - loss: 0.4743 - accuracy: 0.4975 - val_loss: 0.4760 - val_accuracy: 0.5037\n",
      "Epoch 73/100\n",
      "714/714 [==============================] - 4s 5ms/step - loss: 0.4736 - accuracy: 0.4975 - val_loss: 0.4745 - val_accuracy: 0.5037\n",
      "Epoch 74/100\n",
      "714/714 [==============================] - 3s 5ms/step - loss: 0.4734 - accuracy: 0.4975 - val_loss: 0.4756 - val_accuracy: 0.5037\n",
      "Epoch 75/100\n",
      "714/714 [==============================] - 3s 5ms/step - loss: 0.4740 - accuracy: 0.4975 - val_loss: 0.4747 - val_accuracy: 0.5037\n",
      "Epoch 76/100\n",
      "714/714 [==============================] - 3s 5ms/step - loss: 0.4734 - accuracy: 0.4975 - val_loss: 0.4757 - val_accuracy: 0.5037\n",
      "Epoch 77/100\n",
      "714/714 [==============================] - 3s 5ms/step - loss: 0.4730 - accuracy: 0.4975 - val_loss: 0.4737 - val_accuracy: 0.5037\n",
      "Epoch 78/100\n",
      "714/714 [==============================] - 3s 5ms/step - loss: 0.4730 - accuracy: 0.4975 - val_loss: 0.4733 - val_accuracy: 0.5037\n",
      "Epoch 79/100\n",
      "714/714 [==============================] - 3s 5ms/step - loss: 0.4727 - accuracy: 0.4975 - val_loss: 0.4730 - val_accuracy: 0.5037\n",
      "Epoch 80/100\n",
      "714/714 [==============================] - 3s 5ms/step - loss: 0.4732 - accuracy: 0.4975 - val_loss: 0.4771 - val_accuracy: 0.5037\n",
      "Epoch 81/100\n",
      "714/714 [==============================] - 3s 5ms/step - loss: 0.4721 - accuracy: 0.4975 - val_loss: 0.4726 - val_accuracy: 0.5037\n",
      "Epoch 82/100\n",
      "714/714 [==============================] - 3s 5ms/step - loss: 0.4725 - accuracy: 0.4975 - val_loss: 0.4751 - val_accuracy: 0.5037\n",
      "Epoch 83/100\n",
      "714/714 [==============================] - 4s 5ms/step - loss: 0.4721 - accuracy: 0.4975 - val_loss: 0.4735 - val_accuracy: 0.5037\n",
      "Epoch 84/100\n",
      "714/714 [==============================] - 4s 5ms/step - loss: 0.4716 - accuracy: 0.4975 - val_loss: 0.4749 - val_accuracy: 0.5037\n",
      "Epoch 85/100\n",
      "714/714 [==============================] - 3s 5ms/step - loss: 0.4716 - accuracy: 0.4975 - val_loss: 0.4730 - val_accuracy: 0.5037\n",
      "Epoch 86/100\n",
      "714/714 [==============================] - 3s 5ms/step - loss: 0.4712 - accuracy: 0.4975 - val_loss: 0.4733 - val_accuracy: 0.5037\n",
      "Epoch 87/100\n",
      "714/714 [==============================] - 3s 4ms/step - loss: 0.4710 - accuracy: 0.4975 - val_loss: 0.4732 - val_accuracy: 0.5037\n",
      "Epoch 88/100\n",
      "714/714 [==============================] - 3s 5ms/step - loss: 0.4711 - accuracy: 0.4975 - val_loss: 0.4717 - val_accuracy: 0.5037\n",
      "Epoch 89/100\n",
      "714/714 [==============================] - 3s 4ms/step - loss: 0.4709 - accuracy: 0.4975 - val_loss: 0.4733 - val_accuracy: 0.5037\n",
      "Epoch 90/100\n",
      "714/714 [==============================] - 3s 5ms/step - loss: 0.4703 - accuracy: 0.4975 - val_loss: 0.4718 - val_accuracy: 0.5037\n",
      "Epoch 91/100\n",
      "714/714 [==============================] - 3s 5ms/step - loss: 0.4705 - accuracy: 0.4975 - val_loss: 0.4782 - val_accuracy: 0.5037\n",
      "Epoch 92/100\n",
      "714/714 [==============================] - 3s 5ms/step - loss: 0.4698 - accuracy: 0.4975 - val_loss: 0.4724 - val_accuracy: 0.5037\n",
      "Epoch 93/100\n",
      "714/714 [==============================] - 3s 5ms/step - loss: 0.4693 - accuracy: 0.4975 - val_loss: 0.4711 - val_accuracy: 0.5037\n",
      "Epoch 94/100\n",
      "714/714 [==============================] - 4s 5ms/step - loss: 0.4693 - accuracy: 0.4975 - val_loss: 0.4711 - val_accuracy: 0.5037\n",
      "Epoch 95/100\n",
      "714/714 [==============================] - 3s 5ms/step - loss: 0.4694 - accuracy: 0.4975 - val_loss: 0.4710 - val_accuracy: 0.5037\n",
      "Epoch 96/100\n",
      "714/714 [==============================] - 3s 5ms/step - loss: 0.4687 - accuracy: 0.4975 - val_loss: 0.4766 - val_accuracy: 0.5037\n",
      "Epoch 97/100\n",
      "714/714 [==============================] - 3s 5ms/step - loss: 0.4686 - accuracy: 0.4975 - val_loss: 0.4714 - val_accuracy: 0.5037\n",
      "Epoch 98/100\n",
      "714/714 [==============================] - 3s 5ms/step - loss: 0.4683 - accuracy: 0.4975 - val_loss: 0.4713 - val_accuracy: 0.5037\n",
      "Epoch 99/100\n",
      "714/714 [==============================] - 3s 5ms/step - loss: 0.4679 - accuracy: 0.4975 - val_loss: 0.4689 - val_accuracy: 0.5037\n",
      "Epoch 100/100\n",
      "714/714 [==============================] - 3s 5ms/step - loss: 0.4677 - accuracy: 0.4975 - val_loss: 0.4754 - val_accuracy: 0.5037\n"
     ]
    }
   ],
   "source": [
    "# Fit the model to our dataset. In this instance, the model will run a batch gradient descent learning algorithm\n",
    "# for 100 epochs with a determined batch size. Additionally, it will set aside 20% of the data for validation.\n",
    "training_results = init_model.fit(X_train,\n",
    "                                  y_train,\n",
    "                                  epochs=100,\n",
    "                                  batch_size=64,\n",
    "                                  verbose=1,\n",
    "                                  validation_split=0.2,\n",
    "                                  callbacks=[])\n"
   ]
  },
  {
   "cell_type": "code",
   "execution_count": 70,
   "metadata": {},
   "outputs": [
    {
     "data": {
      "text/plain": [
       "<matplotlib.legend.Legend at 0x125308100>"
      ]
     },
     "execution_count": 70,
     "metadata": {},
     "output_type": "execute_result"
    },
    {
     "data": {
      "image/png": "[encoded data removed]",
      "text/plain": [
       "<Figure size 432x288 with 1 Axes>"
      ]
     },
     "metadata": {
      "needs_background": "light"
     },
     "output_type": "display_data"
    }
   ],
   "source": [
    "# Plot the accuracy and loss changes for comparison. If we see an overlap, there may be overfitting involved.\n",
    "from matplotlib import pyplot as plt\n",
    "\n",
    "plt.plot(training_results.history['accuracy'],\n",
    "         label='Accuracy over iterations')\n",
    "plt.plot(training_results.history['loss'], label='Loss over iterations')\n",
    "plt.legend()"
   ]
  },
  {
   "cell_type": "code",
   "execution_count": 71,
   "metadata": {},
   "outputs": [
    {
     "data": {
      "text/plain": [
       "<matplotlib.legend.Legend at 0x1688e2bb0>"
      ]
     },
     "execution_count": 71,
     "metadata": {},
     "output_type": "execute_result"
    },
    {
     "data": {
      "image/png": "[encoded data removed]",
      "text/plain": [
       "<Figure size 432x288 with 1 Axes>"
      ]
     },
     "metadata": {
      "needs_background": "light"
     },
     "output_type": "display_data"
    }
   ],
   "source": [
    "plt.plot(training_results.history['val_accuracy'],\n",
    "         label='Validation accuracy over iterations')\n",
    "plt.plot(training_results.history['val_loss'],\n",
    "         label='Validation loss over iterations')\n",
    "plt.legend()"
   ]
  },
  {
   "cell_type": "markdown",
   "metadata": {},
   "source": [
    "## Part 4: Testing with the Testing Set\n",
    "\n",
    "Now that the model is trained, we will use the testing set to test the results of the model's fitting process.\n"
   ]
  },
  {
   "cell_type": "code",
   "execution_count": 72,
   "metadata": {},
   "outputs": [
    {
     "name": "stderr",
     "output_type": "stream",
     "text": [
      "2021-11-04 10:14:56.828645: I tensorflow/core/grappler/optimizers/custom_graph_optimizer_registry.cc:112] Plugin optimizer for device_type GPU is enabled.\n"
     ]
    },
    {
     "name": "stdout",
     "output_type": "stream",
     "text": [
      "Percent correct: 50.493801%\n",
      "Number of incorrect predictions: 7068\n",
      "===Incorrect Predictions===\n",
      "Prediction was valid,\t where actual was invalid\t\tWord: lthryx\n",
      "Prediction was valid,\t where actual was invalid\t\tWord: usihpgq\n",
      "Prediction was valid,\t where actual was invalid\t\tWord: ayex\n",
      "Prediction was valid,\t where actual was invalid\t\tWord: gyjn\n",
      "Prediction was valid,\t where actual was invalid\t\tWord: uvr\n"
     ]
    }
   ],
   "source": [
    "# Predict the testing data.\n",
    "test_predictions = init_model.predict(X_test)\n",
    "\n",
    "\n",
    "def unmap_word(word: list) -> str:\n",
    "    \"\"\"Returns a string from a list of numbers from 0 to 1 that represent the different letters of the alphabet.\n",
    "    \n",
    "    For numbers less than or equal to zero, they are skipped since they are not valid entries.\n",
    "    \"\"\"\n",
    "    result = \"\"\n",
    "    for num in word:\n",
    "        if num < 1:\n",
    "            continue\n",
    "        result = result + ascii_lowercase[int(num) - 1]\n",
    "    return result\n",
    "\n",
    "\n",
    "# Go through each of the predictions and store the number of predictions it got correct, and capture any failed\n",
    "# predictions for inspection.\n",
    "number_correct = 0\n",
    "errors = []\n",
    "for idx, prediction in enumerate(test_predictions):\n",
    "    actual = y_test[idx]\n",
    "    if prediction == actual:\n",
    "        number_correct += 1\n",
    "    else:\n",
    "        errors.append((idx, prediction, actual))\n",
    "\n",
    "# Calculate the accuracy percentage.\n",
    "accuracy_percentage = (number_correct / len(y_test)) * 100\n",
    "print(f\"Percent correct: {accuracy_percentage:02f}%\")\n",
    "print(f\"Number of incorrect predictions: {len(y_test) - number_correct}\")\n",
    "\n",
    "# Print the first five of the incorrect predictions.\n",
    "print(\"===Incorrect Predictions===\")\n",
    "for idx, pred, act in errors[:5]:\n",
    "    word = unmap_word(X_test[idx] * 26)\n",
    "    pred_str = \"valid\" if pred else \"invalid\"\n",
    "    act_str = \"valid\" if act else \"invalid\"\n",
    "    print(\n",
    "        f\"Prediction was {pred_str},\\t where actual was {act_str}\\t\\tWord: {word}\"\n",
    "    )\n"
   ]
  },
  {
   "cell_type": "markdown",
   "metadata": {},
   "source": [
    "## Part 5: Filtering Out \"Invalid\" Words in the Test Dictionary\n",
    "\n",
    "Now that we have model that seems to be reasonably accurate, we can use our test dictionary to filter out words\n",
    "that the network considers invalid.\n"
   ]
  },
  {
   "cell_type": "code",
   "execution_count": 73,
   "metadata": {},
   "outputs": [
    {
     "name": "stdout",
     "output_type": "stream",
     "text": [
      "['xewetov', 'rskyesphbdj', 'wudnanvo', 'does', 'doowkguy', 'qtasvymmeq', 'hihebuxa', 'kftealnlhnp', 'gevhenly', 'deacgiecj']\n"
     ]
    }
   ],
   "source": [
    "# Grab the contents of the test dictionary, which contains completely randomly-generated words from the random word\n",
    "# generator defined in random_strings. These words follow common syllabic structures and will be filtered according to\n",
    "# what the network defines as a valid word later.\n",
    "\n",
    "with open(\"test_dict.txt\", \"r\") as dict_file:\n",
    "    test_dict = [word.strip() for word in dict_file.readlines()]\n",
    "\n",
    "print(test_dict[:10])"
   ]
  },
  {
   "cell_type": "code",
   "execution_count": 74,
   "metadata": {},
   "outputs": [
    {
     "name": "stdout",
     "output_type": "stream",
     "text": [
      "Trimmed 0 invalid words from the test dictionary (now size 500).\n",
      "['xewetov', 'rskyesphbdj', 'wudnanvo', 'does', 'doowkguy', 'qtasvymmeq', 'hihebuxa', 'kftealnlhnp', 'gevhenly', 'deacgiecj']\n"
     ]
    },
    {
     "name": "stderr",
     "output_type": "stream",
     "text": [
      "2021-11-04 10:14:57.259902: I tensorflow/core/grappler/optimizers/custom_graph_optimizer_registry.cc:112] Plugin optimizer for device_type GPU is enabled.\n"
     ]
    }
   ],
   "source": [
    "# Encode the test_dict the same way we encoded the dataset.\n",
    "encoded_test = np.array([map_word(w) for w in test_dict if len(w) <= avg_length], dtype=object)\n",
    "encoded_test = pad_sequences(encoded_test, padding=\"post\", maxlen=avg_length)\n",
    "\n",
    "# Make predictions of the test_dict and collect all of the words it considered valid.\n",
    "dict_predictions = init_model.predict(encoded_test)\n",
    "valid_dictionary = []\n",
    "for idx, prediction in enumerate(dict_predictions):\n",
    "    if prediction == 0:\n",
    "        continue\n",
    "    valid_dictionary.append(test_dict[idx])\n",
    "\n",
    "# Print some of the valid words, as well as how big the list actually is.\n",
    "trim_count = len([w for w in test_dict if len(w) <= avg_length]) - len(valid_dictionary)\n",
    "print(\n",
    "    f\"Trimmed {trim_count} invalid words from the test dictionary (now size {len(test_dict)}).\"\n",
    ")\n",
    "print(valid_dictionary[:10])"
   ]
  },
  {
   "cell_type": "markdown",
   "metadata": {},
   "source": [
    "## Part 7: Scaling Down the Network\n",
    "\n",
    "The same steps for creating the network apply here; however, the dataset has now changed to words consisting of only three letters.\n"
   ]
  },
  {
   "cell_type": "code",
   "execution_count": 75,
   "metadata": {},
   "outputs": [
    {
     "name": "stdout",
     "output_type": "stream",
     "text": [
      "[[0.03846154 0.11538462 0.19230769]\n",
      " [0.03846154 0.11538462 0.76923077]\n",
      " [0.03846154 0.15384615 0.15384615]\n",
      " [0.03846154 0.15384615 0.57692308]\n",
      " [0.03846154 0.15384615 0.73076923]]\n"
     ]
    }
   ],
   "source": [
    "from tensorflow.keras.preprocessing.sequence import pad_sequences\n",
    "\n",
    "small_valid_words = [w for w in original_valid if len(w) <= 3]\n",
    "small_invalid = [random_string(3) for _ in range(len(small_valid_words))]\n",
    "\n",
    "small_encoded_correct = [map_word(str(word)) for word in small_valid_words]\n",
    "small_encoded_invalid = [map_word(str(word)) for word in small_invalid]\n",
    "\n",
    "Y_small_correct   = [[1] for _ in range(len(small_encoded_correct))]\n",
    "Y_small_incorrect = [[0] for _ in range(len(small_encoded_invalid))]\n",
    "\n",
    "# Use padding to make all the words the same length, adding zeroes at the end.\n",
    "pre_padded_X_small = np.array(small_encoded_correct + small_encoded_invalid, dtype=object)\n",
    "small_X = pad_sequences(pre_padded_X_small, padding=\"post\", maxlen=3)\n",
    "\n",
    "# Divide the dataset's elements by the number of letters in the alphabet to normalize the data.\n",
    "small_X = small_X / 26\n",
    "small_Y = np.array(Y_small_correct + Y_small_incorrect)\n",
    "\n",
    "# print(X.shape)\n",
    "print(small_X[:5])"
   ]
  },
  {
   "cell_type": "code",
   "execution_count": 76,
   "metadata": {},
   "outputs": [
    {
     "name": "stdout",
     "output_type": "stream",
     "text": [
      "Model: \"AbysimaSmall_2\"\n",
      "_________________________________________________________________\n",
      "Layer (type)                 Output Shape              Param #   \n",
      "=================================================================\n",
      "dense_19 (Dense)             (None, 3)                 12        \n",
      "_________________________________________________________________\n",
      "dense_20 (Dense)             (None, 12)                48        \n",
      "_________________________________________________________________\n",
      "dense_21 (Dense)             (None, 1)                 13        \n",
      "=================================================================\n",
      "Total params: 73\n",
      "Trainable params: 73\n",
      "Non-trainable params: 0\n",
      "_________________________________________________________________\n"
     ]
    }
   ],
   "source": [
    "# Start by creating the model.\n",
    "from tensorflow import keras\n",
    "from tensorflow.keras.layers import Dense\n",
    "from tensorflow.keras.callbacks import EarlyStopping\n",
    "\n",
    "small_model = keras.Sequential(name=\"AbysimaSmall_2\")\n",
    "small_model.add(Dense(3, input_dim=3, activation='relu'))\n",
    "small_model.add(Dense(12, activation='relu'))\n",
    "small_model.add(Dense(1, activation='softmax'))\n",
    "\n",
    "# Compile the model.\n",
    "small_model.compile(loss='binary_crossentropy',\n",
    "              optimizer='adam',\n",
    "              metrics=['accuracy'])\n",
    "small_model.summary()"
   ]
  },
  {
   "cell_type": "code",
   "execution_count": 77,
   "metadata": {},
   "outputs": [
    {
     "name": "stdout",
     "output_type": "stream",
     "text": [
      "Epoch 1/100\n",
      "25/57 [============>.................] - ETA: 0s - loss: 0.6964 - accuracy: 0.5125"
     ]
    },
    {
     "name": "stderr",
     "output_type": "stream",
     "text": [
      "2021-11-04 10:14:57.466077: I tensorflow/core/grappler/optimizers/custom_graph_optimizer_registry.cc:112] Plugin optimizer for device_type GPU is enabled.\n"
     ]
    },
    {
     "name": "stdout",
     "output_type": "stream",
     "text": [
      "57/57 [==============================] - 1s 7ms/step - loss: 0.6961 - accuracy: 0.5033 - val_loss: 0.6956 - val_accuracy: 0.4800\n",
      "Epoch 2/100\n",
      "26/57 [============>.................] - ETA: 0s - loss: 0.6942 - accuracy: 0.5000"
     ]
    },
    {
     "name": "stderr",
     "output_type": "stream",
     "text": [
      "2021-11-04 10:14:57.837861: I tensorflow/core/grappler/optimizers/custom_graph_optimizer_registry.cc:112] Plugin optimizer for device_type GPU is enabled.\n"
     ]
    },
    {
     "name": "stdout",
     "output_type": "stream",
     "text": [
      "57/57 [==============================] - 0s 5ms/step - loss: 0.6947 - accuracy: 0.5033 - val_loss: 0.6940 - val_accuracy: 0.4800\n",
      "Epoch 3/100\n",
      "57/57 [==============================] - 0s 5ms/step - loss: 0.6942 - accuracy: 0.5033 - val_loss: 0.6939 - val_accuracy: 0.4800\n",
      "Epoch 4/100\n",
      "57/57 [==============================] - 0s 5ms/step - loss: 0.6942 - accuracy: 0.5033 - val_loss: 0.6934 - val_accuracy: 0.4800\n",
      "Epoch 5/100\n",
      "57/57 [==============================] - 0s 5ms/step - loss: 0.6941 - accuracy: 0.5033 - val_loss: 0.6930 - val_accuracy: 0.4800\n",
      "Epoch 6/100\n",
      "57/57 [==============================] - 0s 5ms/step - loss: 0.6938 - accuracy: 0.5033 - val_loss: 0.6930 - val_accuracy: 0.4800\n",
      "Epoch 7/100\n",
      "57/57 [==============================] - 0s 5ms/step - loss: 0.6937 - accuracy: 0.5033 - val_loss: 0.6930 - val_accuracy: 0.4800\n",
      "Epoch 8/100\n",
      "57/57 [==============================] - 0s 5ms/step - loss: 0.6935 - accuracy: 0.5033 - val_loss: 0.6929 - val_accuracy: 0.4800\n",
      "Epoch 9/100\n",
      "57/57 [==============================] - 0s 5ms/step - loss: 0.6935 - accuracy: 0.5033 - val_loss: 0.6930 - val_accuracy: 0.4800\n",
      "Epoch 10/100\n",
      "57/57 [==============================] - 0s 5ms/step - loss: 0.6933 - accuracy: 0.5033 - val_loss: 0.6928 - val_accuracy: 0.4800\n",
      "Epoch 11/100\n",
      "57/57 [==============================] - 0s 5ms/step - loss: 0.6935 - accuracy: 0.5033 - val_loss: 0.6929 - val_accuracy: 0.4800\n",
      "Epoch 12/100\n",
      "57/57 [==============================] - 0s 5ms/step - loss: 0.6935 - accuracy: 0.5033 - val_loss: 0.6926 - val_accuracy: 0.4800\n",
      "Epoch 13/100\n",
      "57/57 [==============================] - 0s 5ms/step - loss: 0.6931 - accuracy: 0.5033 - val_loss: 0.6928 - val_accuracy: 0.4800\n",
      "Epoch 14/100\n",
      "57/57 [==============================] - 0s 5ms/step - loss: 0.6930 - accuracy: 0.5033 - val_loss: 0.6929 - val_accuracy: 0.4800\n",
      "Epoch 15/100\n",
      "57/57 [==============================] - 0s 5ms/step - loss: 0.6929 - accuracy: 0.5033 - val_loss: 0.6930 - val_accuracy: 0.4800\n",
      "Epoch 16/100\n",
      "57/57 [==============================] - 0s 5ms/step - loss: 0.6927 - accuracy: 0.5033 - val_loss: 0.6931 - val_accuracy: 0.4800\n",
      "Epoch 17/100\n",
      "57/57 [==============================] - 0s 5ms/step - loss: 0.6927 - accuracy: 0.5033 - val_loss: 0.6924 - val_accuracy: 0.4800\n",
      "Epoch 18/100\n",
      "57/57 [==============================] - 0s 5ms/step - loss: 0.6924 - accuracy: 0.5033 - val_loss: 0.6927 - val_accuracy: 0.4800\n",
      "Epoch 19/100\n",
      "57/57 [==============================] - 0s 5ms/step - loss: 0.6925 - accuracy: 0.5033 - val_loss: 0.6918 - val_accuracy: 0.4800\n",
      "Epoch 20/100\n",
      "57/57 [==============================] - 0s 5ms/step - loss: 0.6924 - accuracy: 0.5033 - val_loss: 0.6918 - val_accuracy: 0.4800\n",
      "Epoch 21/100\n",
      "57/57 [==============================] - 0s 5ms/step - loss: 0.6919 - accuracy: 0.5033 - val_loss: 0.6916 - val_accuracy: 0.4800\n",
      "Epoch 22/100\n",
      "57/57 [==============================] - 0s 5ms/step - loss: 0.6920 - accuracy: 0.5033 - val_loss: 0.6916 - val_accuracy: 0.4800\n",
      "Epoch 23/100\n",
      "57/57 [==============================] - 0s 5ms/step - loss: 0.6917 - accuracy: 0.5033 - val_loss: 0.6909 - val_accuracy: 0.4800\n",
      "Epoch 24/100\n",
      "57/57 [==============================] - 0s 5ms/step - loss: 0.6914 - accuracy: 0.5033 - val_loss: 0.6912 - val_accuracy: 0.4800\n",
      "Epoch 25/100\n",
      "57/57 [==============================] - 0s 5ms/step - loss: 0.6910 - accuracy: 0.5033 - val_loss: 0.6912 - val_accuracy: 0.4800\n",
      "Epoch 26/100\n",
      "57/57 [==============================] - 0s 5ms/step - loss: 0.6906 - accuracy: 0.5033 - val_loss: 0.6901 - val_accuracy: 0.4800\n",
      "Epoch 27/100\n",
      "57/57 [==============================] - 0s 5ms/step - loss: 0.6905 - accuracy: 0.5033 - val_loss: 0.6903 - val_accuracy: 0.4800\n",
      "Epoch 28/100\n",
      "57/57 [==============================] - 0s 5ms/step - loss: 0.6901 - accuracy: 0.5033 - val_loss: 0.6898 - val_accuracy: 0.4800\n",
      "Epoch 29/100\n",
      "57/57 [==============================] - 0s 5ms/step - loss: 0.6898 - accuracy: 0.5033 - val_loss: 0.6888 - val_accuracy: 0.4800\n",
      "Epoch 30/100\n",
      "57/57 [==============================] - 0s 5ms/step - loss: 0.6895 - accuracy: 0.5033 - val_loss: 0.6884 - val_accuracy: 0.4800\n",
      "Epoch 31/100\n",
      "57/57 [==============================] - 0s 5ms/step - loss: 0.6893 - accuracy: 0.5033 - val_loss: 0.6882 - val_accuracy: 0.4800\n",
      "Epoch 32/100\n",
      "57/57 [==============================] - 0s 5ms/step - loss: 0.6888 - accuracy: 0.5033 - val_loss: 0.6879 - val_accuracy: 0.4800\n",
      "Epoch 33/100\n",
      "57/57 [==============================] - 0s 5ms/step - loss: 0.6884 - accuracy: 0.5033 - val_loss: 0.6873 - val_accuracy: 0.4800\n",
      "Epoch 34/100\n",
      "57/57 [==============================] - 0s 5ms/step - loss: 0.6880 - accuracy: 0.5033 - val_loss: 0.6868 - val_accuracy: 0.4800\n",
      "Epoch 35/100\n",
      "57/57 [==============================] - 0s 5ms/step - loss: 0.6878 - accuracy: 0.5033 - val_loss: 0.6867 - val_accuracy: 0.4800\n",
      "Epoch 36/100\n",
      "57/57 [==============================] - 0s 5ms/step - loss: 0.6875 - accuracy: 0.5033 - val_loss: 0.6861 - val_accuracy: 0.4800\n",
      "Epoch 37/100\n",
      "57/57 [==============================] - 0s 5ms/step - loss: 0.6870 - accuracy: 0.5033 - val_loss: 0.6857 - val_accuracy: 0.4800\n",
      "Epoch 38/100\n",
      "57/57 [==============================] - 0s 5ms/step - loss: 0.6866 - accuracy: 0.5033 - val_loss: 0.6850 - val_accuracy: 0.4800\n",
      "Epoch 39/100\n",
      "57/57 [==============================] - 0s 5ms/step - loss: 0.6864 - accuracy: 0.5033 - val_loss: 0.6848 - val_accuracy: 0.4800\n",
      "Epoch 40/100\n",
      "57/57 [==============================] - 0s 5ms/step - loss: 0.6860 - accuracy: 0.5033 - val_loss: 0.6841 - val_accuracy: 0.4800\n",
      "Epoch 41/100\n",
      "57/57 [==============================] - 0s 6ms/step - loss: 0.6859 - accuracy: 0.5033 - val_loss: 0.6838 - val_accuracy: 0.4800\n",
      "Epoch 42/100\n",
      "57/57 [==============================] - 0s 5ms/step - loss: 0.6854 - accuracy: 0.5033 - val_loss: 0.6833 - val_accuracy: 0.4800\n",
      "Epoch 43/100\n",
      "57/57 [==============================] - 0s 5ms/step - loss: 0.6852 - accuracy: 0.5033 - val_loss: 0.6829 - val_accuracy: 0.4800\n",
      "Epoch 44/100\n",
      "57/57 [==============================] - 0s 5ms/step - loss: 0.6853 - accuracy: 0.5033 - val_loss: 0.6827 - val_accuracy: 0.4800\n",
      "Epoch 45/100\n",
      "57/57 [==============================] - 0s 5ms/step - loss: 0.6846 - accuracy: 0.5033 - val_loss: 0.6824 - val_accuracy: 0.4800\n",
      "Epoch 46/100\n",
      "57/57 [==============================] - 0s 5ms/step - loss: 0.6842 - accuracy: 0.5033 - val_loss: 0.6815 - val_accuracy: 0.4800\n",
      "Epoch 47/100\n",
      "57/57 [==============================] - 0s 5ms/step - loss: 0.6838 - accuracy: 0.5033 - val_loss: 0.6815 - val_accuracy: 0.4800\n",
      "Epoch 48/100\n",
      "57/57 [==============================] - 0s 5ms/step - loss: 0.6835 - accuracy: 0.5033 - val_loss: 0.6802 - val_accuracy: 0.4800\n",
      "Epoch 49/100\n",
      "57/57 [==============================] - 0s 5ms/step - loss: 0.6834 - accuracy: 0.5033 - val_loss: 0.6809 - val_accuracy: 0.4800\n",
      "Epoch 50/100\n",
      "57/57 [==============================] - 0s 5ms/step - loss: 0.6833 - accuracy: 0.5033 - val_loss: 0.6793 - val_accuracy: 0.4800\n",
      "Epoch 51/100\n",
      "57/57 [==============================] - 0s 5ms/step - loss: 0.6827 - accuracy: 0.5033 - val_loss: 0.6793 - val_accuracy: 0.4800\n",
      "Epoch 52/100\n",
      "57/57 [==============================] - 0s 5ms/step - loss: 0.6826 - accuracy: 0.5033 - val_loss: 0.6782 - val_accuracy: 0.4800\n",
      "Epoch 53/100\n",
      "57/57 [==============================] - 0s 5ms/step - loss: 0.6824 - accuracy: 0.5033 - val_loss: 0.6785 - val_accuracy: 0.4800\n",
      "Epoch 54/100\n",
      "57/57 [==============================] - 0s 6ms/step - loss: 0.6825 - accuracy: 0.5033 - val_loss: 0.6784 - val_accuracy: 0.4800\n",
      "Epoch 55/100\n",
      "57/57 [==============================] - 0s 5ms/step - loss: 0.6821 - accuracy: 0.5033 - val_loss: 0.6775 - val_accuracy: 0.4800\n",
      "Epoch 56/100\n",
      "57/57 [==============================] - 0s 5ms/step - loss: 0.6822 - accuracy: 0.5033 - val_loss: 0.6769 - val_accuracy: 0.4800\n",
      "Epoch 57/100\n",
      "57/57 [==============================] - 0s 5ms/step - loss: 0.6815 - accuracy: 0.5033 - val_loss: 0.6776 - val_accuracy: 0.4800\n",
      "Epoch 58/100\n",
      "57/57 [==============================] - 0s 5ms/step - loss: 0.6818 - accuracy: 0.5033 - val_loss: 0.6779 - val_accuracy: 0.4800\n",
      "Epoch 59/100\n",
      "57/57 [==============================] - 0s 5ms/step - loss: 0.6814 - accuracy: 0.5033 - val_loss: 0.6772 - val_accuracy: 0.4800\n",
      "Epoch 60/100\n",
      "57/57 [==============================] - 0s 5ms/step - loss: 0.6814 - accuracy: 0.5033 - val_loss: 0.6758 - val_accuracy: 0.4800\n",
      "Epoch 61/100\n",
      "57/57 [==============================] - 0s 5ms/step - loss: 0.6809 - accuracy: 0.5033 - val_loss: 0.6764 - val_accuracy: 0.4800\n",
      "Epoch 62/100\n",
      "57/57 [==============================] - 0s 5ms/step - loss: 0.6808 - accuracy: 0.5033 - val_loss: 0.6756 - val_accuracy: 0.4800\n",
      "Epoch 63/100\n",
      "57/57 [==============================] - 0s 5ms/step - loss: 0.6814 - accuracy: 0.5033 - val_loss: 0.6753 - val_accuracy: 0.4800\n",
      "Epoch 64/100\n",
      "57/57 [==============================] - 0s 5ms/step - loss: 0.6807 - accuracy: 0.5033 - val_loss: 0.6754 - val_accuracy: 0.4800\n",
      "Epoch 65/100\n",
      "57/57 [==============================] - 0s 5ms/step - loss: 0.6803 - accuracy: 0.5033 - val_loss: 0.6746 - val_accuracy: 0.4800\n",
      "Epoch 66/100\n",
      "57/57 [==============================] - 0s 5ms/step - loss: 0.6804 - accuracy: 0.5033 - val_loss: 0.6746 - val_accuracy: 0.4800\n",
      "Epoch 67/100\n",
      "57/57 [==============================] - 0s 5ms/step - loss: 0.6805 - accuracy: 0.5033 - val_loss: 0.6744 - val_accuracy: 0.4800\n",
      "Epoch 68/100\n",
      "57/57 [==============================] - 0s 5ms/step - loss: 0.6801 - accuracy: 0.5033 - val_loss: 0.6745 - val_accuracy: 0.4800\n",
      "Epoch 69/100\n",
      "57/57 [==============================] - 0s 5ms/step - loss: 0.6804 - accuracy: 0.5033 - val_loss: 0.6742 - val_accuracy: 0.4800\n",
      "Epoch 70/100\n",
      "57/57 [==============================] - 0s 5ms/step - loss: 0.6811 - accuracy: 0.5033 - val_loss: 0.6735 - val_accuracy: 0.4800\n",
      "Epoch 71/100\n",
      "57/57 [==============================] - 0s 5ms/step - loss: 0.6798 - accuracy: 0.5033 - val_loss: 0.6748 - val_accuracy: 0.4800\n",
      "Epoch 72/100\n",
      "57/57 [==============================] - 0s 5ms/step - loss: 0.6802 - accuracy: 0.5033 - val_loss: 0.6739 - val_accuracy: 0.4800\n",
      "Epoch 73/100\n",
      "57/57 [==============================] - 0s 5ms/step - loss: 0.6800 - accuracy: 0.5033 - val_loss: 0.6731 - val_accuracy: 0.4800\n",
      "Epoch 74/100\n",
      "57/57 [==============================] - 0s 5ms/step - loss: 0.6801 - accuracy: 0.5033 - val_loss: 0.6733 - val_accuracy: 0.4800\n",
      "Epoch 75/100\n",
      "57/57 [==============================] - 0s 5ms/step - loss: 0.6806 - accuracy: 0.5033 - val_loss: 0.6728 - val_accuracy: 0.4800\n",
      "Epoch 76/100\n",
      "57/57 [==============================] - 0s 5ms/step - loss: 0.6797 - accuracy: 0.5033 - val_loss: 0.6729 - val_accuracy: 0.4800\n",
      "Epoch 77/100\n",
      "57/57 [==============================] - 0s 5ms/step - loss: 0.6798 - accuracy: 0.5033 - val_loss: 0.6723 - val_accuracy: 0.4800\n",
      "Epoch 78/100\n",
      "57/57 [==============================] - 0s 5ms/step - loss: 0.6796 - accuracy: 0.5033 - val_loss: 0.6721 - val_accuracy: 0.4800\n",
      "Epoch 79/100\n",
      "57/57 [==============================] - 0s 5ms/step - loss: 0.6798 - accuracy: 0.5033 - val_loss: 0.6722 - val_accuracy: 0.4800\n",
      "Epoch 80/100\n",
      "57/57 [==============================] - 0s 5ms/step - loss: 0.6794 - accuracy: 0.5033 - val_loss: 0.6717 - val_accuracy: 0.4800\n",
      "Epoch 81/100\n",
      "57/57 [==============================] - 0s 5ms/step - loss: 0.6798 - accuracy: 0.5033 - val_loss: 0.6718 - val_accuracy: 0.4800\n",
      "Epoch 82/100\n",
      "57/57 [==============================] - 0s 5ms/step - loss: 0.6793 - accuracy: 0.5033 - val_loss: 0.6729 - val_accuracy: 0.4800\n",
      "Epoch 83/100\n",
      "57/57 [==============================] - 0s 5ms/step - loss: 0.6795 - accuracy: 0.5033 - val_loss: 0.6725 - val_accuracy: 0.4800\n",
      "Epoch 84/100\n",
      "57/57 [==============================] - 0s 5ms/step - loss: 0.6793 - accuracy: 0.5033 - val_loss: 0.6717 - val_accuracy: 0.4800\n",
      "Epoch 85/100\n",
      "57/57 [==============================] - 0s 6ms/step - loss: 0.6794 - accuracy: 0.5033 - val_loss: 0.6719 - val_accuracy: 0.4800\n",
      "Epoch 86/100\n",
      "57/57 [==============================] - 0s 5ms/step - loss: 0.6796 - accuracy: 0.5033 - val_loss: 0.6715 - val_accuracy: 0.4800\n",
      "Epoch 87/100\n",
      "57/57 [==============================] - 0s 7ms/step - loss: 0.6792 - accuracy: 0.5033 - val_loss: 0.6716 - val_accuracy: 0.4800\n",
      "Epoch 88/100\n",
      "57/57 [==============================] - 0s 5ms/step - loss: 0.6792 - accuracy: 0.5033 - val_loss: 0.6718 - val_accuracy: 0.4800\n",
      "Epoch 89/100\n",
      "57/57 [==============================] - 0s 6ms/step - loss: 0.6791 - accuracy: 0.5033 - val_loss: 0.6704 - val_accuracy: 0.4800\n",
      "Epoch 90/100\n",
      "57/57 [==============================] - 0s 5ms/step - loss: 0.6793 - accuracy: 0.5033 - val_loss: 0.6704 - val_accuracy: 0.4800\n",
      "Epoch 91/100\n",
      "57/57 [==============================] - 0s 6ms/step - loss: 0.6798 - accuracy: 0.5033 - val_loss: 0.6705 - val_accuracy: 0.4800\n",
      "Epoch 92/100\n",
      "57/57 [==============================] - 0s 7ms/step - loss: 0.6790 - accuracy: 0.5033 - val_loss: 0.6711 - val_accuracy: 0.4800\n",
      "Epoch 93/100\n",
      "57/57 [==============================] - 0s 7ms/step - loss: 0.6795 - accuracy: 0.5033 - val_loss: 0.6710 - val_accuracy: 0.4800\n",
      "Epoch 94/100\n",
      "57/57 [==============================] - 0s 5ms/step - loss: 0.6791 - accuracy: 0.5033 - val_loss: 0.6708 - val_accuracy: 0.4800\n",
      "Epoch 95/100\n",
      "57/57 [==============================] - 0s 5ms/step - loss: 0.6793 - accuracy: 0.5033 - val_loss: 0.6709 - val_accuracy: 0.4800\n",
      "Epoch 96/100\n",
      "57/57 [==============================] - 0s 5ms/step - loss: 0.6790 - accuracy: 0.5033 - val_loss: 0.6699 - val_accuracy: 0.4800\n",
      "Epoch 97/100\n",
      "57/57 [==============================] - 0s 5ms/step - loss: 0.6791 - accuracy: 0.5033 - val_loss: 0.6700 - val_accuracy: 0.4800\n",
      "Epoch 98/100\n",
      "57/57 [==============================] - 0s 6ms/step - loss: 0.6791 - accuracy: 0.5033 - val_loss: 0.6702 - val_accuracy: 0.4800\n",
      "Epoch 99/100\n",
      "57/57 [==============================] - 0s 7ms/step - loss: 0.6789 - accuracy: 0.5033 - val_loss: 0.6697 - val_accuracy: 0.4800\n",
      "Epoch 100/100\n",
      "57/57 [==============================] - 0s 5ms/step - loss: 0.6791 - accuracy: 0.5033 - val_loss: 0.6696 - val_accuracy: 0.4800\n"
     ]
    }
   ],
   "source": [
    "from sklearn.model_selection import train_test_split\n",
    "\n",
    "small_X_train, small_X_test, small_y_train, small_y_test = train_test_split(small_X, small_Y, test_size=0.2, random_state=1498)\n",
    "small_training_results = small_model.fit(small_X_train,\n",
    "                                         small_y_train,\n",
    "                                         epochs=100,\n",
    "                                         batch_size=16,\n",
    "                                         verbose=1,\n",
    "                                         validation_split=0.2,\n",
    "                                         callbacks=[])"
   ]
  },
  {
   "cell_type": "code",
   "execution_count": 78,
   "metadata": {},
   "outputs": [
    {
     "data": {
      "text/plain": [
       "<matplotlib.legend.Legend at 0x17b4993d0>"
      ]
     },
     "execution_count": 78,
     "metadata": {},
     "output_type": "execute_result"
    },
    {
     "data": {
      "image/png": "[encoded data removed]",
      "text/plain": [
       "<Figure size 432x288 with 1 Axes>"
      ]
     },
     "metadata": {
      "needs_background": "light"
     },
     "output_type": "display_data"
    }
   ],
   "source": [
    "from matplotlib import pyplot as plt\n",
    "\n",
    "plt.plot(small_training_results.history['accuracy'],\n",
    "         label='Accuracy over iterations')\n",
    "plt.plot(small_training_results.history['loss'], label='Loss over iterations')\n",
    "plt.legend()"
   ]
  },
  {
   "cell_type": "code",
   "execution_count": 79,
   "metadata": {},
   "outputs": [
    {
     "data": {
      "text/plain": [
       "<matplotlib.legend.Legend at 0x178c3ca90>"
      ]
     },
     "execution_count": 79,
     "metadata": {},
     "output_type": "execute_result"
    },
    {
     "data": {
      "image/png": "[encoded data removed]",
      "text/plain": [
       "<Figure size 432x288 with 1 Axes>"
      ]
     },
     "metadata": {
      "needs_background": "light"
     },
     "output_type": "display_data"
    }
   ],
   "source": [
    "plt.plot(small_training_results.history['val_accuracy'],\n",
    "         label='Validation accuracy over iterations')\n",
    "plt.plot(small_training_results.history['val_loss'],\n",
    "         label='Validation loss over iterations')\n",
    "plt.legend()"
   ]
  },
  {
   "cell_type": "markdown",
   "metadata": {},
   "source": [
    "# Part 8: Using an RNN"
   ]
  },
  {
   "cell_type": "code",
   "execution_count": 80,
   "metadata": {},
   "outputs": [
    {
     "name": "stdout",
     "output_type": "stream",
     "text": [
      "Model: \"sequential_9\"\n",
      "_________________________________________________________________\n",
      "Layer (type)                 Output Shape              Param #   \n",
      "=================================================================\n",
      "embedding_7 (Embedding)      (None, 3, 64)             44992     \n",
      "_________________________________________________________________\n",
      "lstm_9 (LSTM)                (None, 4)                 1104      \n",
      "_________________________________________________________________\n",
      "dense_22 (Dense)             (None, 1)                 5         \n",
      "=================================================================\n",
      "Total params: 46,101\n",
      "Trainable params: 46,101\n",
      "Non-trainable params: 0\n",
      "_________________________________________________________________\n"
     ]
    }
   ],
   "source": [
    "from tensorflow.keras.layers import LSTM, Embedding\n",
    "\n",
    "small_rnn_model = keras.Sequential()\n",
    "small_rnn_model.add(Embedding(len(small_valid_words) + 1, 64, input_length=3))\n",
    "small_rnn_model.add(LSTM(4, activation='tanh'))\n",
    "small_rnn_model.add(Dense(1, activation='softmax'))\n",
    "small_rnn_model.compile(optimizer='adam', loss='binary_crossentropy', metrics=['accuracy'])\n",
    "small_rnn_model.summary()"
   ]
  },
  {
   "cell_type": "code",
   "execution_count": 81,
   "metadata": {},
   "outputs": [
    {
     "name": "stdout",
     "output_type": "stream",
     "text": [
      "Epoch 1/100\n"
     ]
    },
    {
     "name": "stderr",
     "output_type": "stream",
     "text": [
      "2021-11-04 10:15:27.151206: I tensorflow/core/grappler/optimizers/custom_graph_optimizer_registry.cc:112] Plugin optimizer for device_type GPU is enabled.\n",
      "2021-11-04 10:15:27.239058: I tensorflow/core/grappler/optimizers/custom_graph_optimizer_registry.cc:112] Plugin optimizer for device_type GPU is enabled.\n",
      "2021-11-04 10:15:27.299273: I tensorflow/core/grappler/optimizers/custom_graph_optimizer_registry.cc:112] Plugin optimizer for device_type GPU is enabled.\n"
     ]
    },
    {
     "name": "stdout",
     "output_type": "stream",
     "text": [
      "57/57 [==============================] - 2s 20ms/step - loss: 0.6938 - accuracy: 0.5033 - val_loss: 0.6926 - val_accuracy: 0.4800\n",
      "Epoch 2/100\n",
      " 1/57 [..............................] - ETA: 0s - loss: 0.6932 - accuracy: 0.5000"
     ]
    },
    {
     "name": "stderr",
     "output_type": "stream",
     "text": [
      "2021-11-04 10:15:28.332208: I tensorflow/core/grappler/optimizers/custom_graph_optimizer_registry.cc:112] Plugin optimizer for device_type GPU is enabled.\n",
      "2021-11-04 10:15:28.363416: I tensorflow/core/grappler/optimizers/custom_graph_optimizer_registry.cc:112] Plugin optimizer for device_type GPU is enabled.\n"
     ]
    },
    {
     "name": "stdout",
     "output_type": "stream",
     "text": [
      "57/57 [==============================] - 1s 14ms/step - loss: 0.6933 - accuracy: 0.5033 - val_loss: 0.6932 - val_accuracy: 0.4800\n",
      "Epoch 3/100\n",
      "57/57 [==============================] - 1s 12ms/step - loss: 0.6933 - accuracy: 0.5033 - val_loss: 0.6932 - val_accuracy: 0.4800\n",
      "Epoch 4/100\n",
      "57/57 [==============================] - 1s 11ms/step - loss: 0.6934 - accuracy: 0.5033 - val_loss: 0.6935 - val_accuracy: 0.4800\n",
      "Epoch 5/100\n",
      "57/57 [==============================] - 1s 11ms/step - loss: 0.6932 - accuracy: 0.5033 - val_loss: 0.6935 - val_accuracy: 0.4800\n",
      "Epoch 6/100\n",
      "57/57 [==============================] - 1s 12ms/step - loss: 0.6932 - accuracy: 0.5033 - val_loss: 0.6935 - val_accuracy: 0.4800\n",
      "Epoch 7/100\n",
      "57/57 [==============================] - 1s 11ms/step - loss: 0.6934 - accuracy: 0.5033 - val_loss: 0.6936 - val_accuracy: 0.4800\n",
      "Epoch 8/100\n",
      "57/57 [==============================] - 1s 11ms/step - loss: 0.6933 - accuracy: 0.5033 - val_loss: 0.6940 - val_accuracy: 0.4800\n",
      "Epoch 9/100\n",
      "57/57 [==============================] - 1s 11ms/step - loss: 0.6933 - accuracy: 0.5033 - val_loss: 0.6937 - val_accuracy: 0.4800\n",
      "Epoch 10/100\n",
      "57/57 [==============================] - 1s 11ms/step - loss: 0.6934 - accuracy: 0.5033 - val_loss: 0.6937 - val_accuracy: 0.4800\n",
      "Epoch 11/100\n",
      "57/57 [==============================] - 1s 11ms/step - loss: 0.6935 - accuracy: 0.5033 - val_loss: 0.6932 - val_accuracy: 0.4800\n",
      "Epoch 12/100\n",
      "57/57 [==============================] - 1s 12ms/step - loss: 0.6933 - accuracy: 0.5033 - val_loss: 0.6934 - val_accuracy: 0.4800\n",
      "Epoch 13/100\n",
      "57/57 [==============================] - 1s 12ms/step - loss: 0.6932 - accuracy: 0.5033 - val_loss: 0.6932 - val_accuracy: 0.4800\n",
      "Epoch 14/100\n",
      "57/57 [==============================] - 1s 11ms/step - loss: 0.6933 - accuracy: 0.5033 - val_loss: 0.6932 - val_accuracy: 0.4800\n",
      "Epoch 15/100\n",
      "57/57 [==============================] - 1s 12ms/step - loss: 0.6932 - accuracy: 0.5033 - val_loss: 0.6932 - val_accuracy: 0.4800\n",
      "Epoch 16/100\n",
      "57/57 [==============================] - 1s 12ms/step - loss: 0.6932 - accuracy: 0.5033 - val_loss: 0.6931 - val_accuracy: 0.4800\n",
      "Epoch 17/100\n",
      "57/57 [==============================] - 1s 12ms/step - loss: 0.6932 - accuracy: 0.5033 - val_loss: 0.6930 - val_accuracy: 0.4800\n",
      "Epoch 18/100\n",
      "57/57 [==============================] - 1s 11ms/step - loss: 0.6932 - accuracy: 0.5033 - val_loss: 0.6928 - val_accuracy: 0.4800\n",
      "Epoch 19/100\n",
      "57/57 [==============================] - 1s 12ms/step - loss: 0.6933 - accuracy: 0.5033 - val_loss: 0.6928 - val_accuracy: 0.4800\n",
      "Epoch 20/100\n",
      "57/57 [==============================] - 1s 12ms/step - loss: 0.6934 - accuracy: 0.5033 - val_loss: 0.6929 - val_accuracy: 0.4800\n",
      "Epoch 21/100\n",
      "57/57 [==============================] - 1s 11ms/step - loss: 0.6934 - accuracy: 0.5033 - val_loss: 0.6931 - val_accuracy: 0.4800\n",
      "Epoch 22/100\n",
      "57/57 [==============================] - 1s 11ms/step - loss: 0.6932 - accuracy: 0.5033 - val_loss: 0.6927 - val_accuracy: 0.4800\n",
      "Epoch 23/100\n",
      "57/57 [==============================] - 1s 14ms/step - loss: 0.6934 - accuracy: 0.5033 - val_loss: 0.6931 - val_accuracy: 0.4800\n",
      "Epoch 24/100\n",
      "57/57 [==============================] - 1s 12ms/step - loss: 0.6932 - accuracy: 0.5033 - val_loss: 0.6929 - val_accuracy: 0.4800\n",
      "Epoch 25/100\n",
      "57/57 [==============================] - 1s 12ms/step - loss: 0.6933 - accuracy: 0.5033 - val_loss: 0.6930 - val_accuracy: 0.4800\n",
      "Epoch 26/100\n",
      "57/57 [==============================] - 1s 12ms/step - loss: 0.6932 - accuracy: 0.5033 - val_loss: 0.6932 - val_accuracy: 0.4800\n",
      "Epoch 27/100\n",
      "57/57 [==============================] - 1s 12ms/step - loss: 0.6934 - accuracy: 0.5033 - val_loss: 0.6929 - val_accuracy: 0.4800\n",
      "Epoch 28/100\n",
      "57/57 [==============================] - 1s 12ms/step - loss: 0.6932 - accuracy: 0.5033 - val_loss: 0.6933 - val_accuracy: 0.4800\n",
      "Epoch 29/100\n",
      "57/57 [==============================] - 1s 11ms/step - loss: 0.6933 - accuracy: 0.5033 - val_loss: 0.6931 - val_accuracy: 0.4800\n",
      "Epoch 30/100\n",
      "57/57 [==============================] - 1s 12ms/step - loss: 0.6932 - accuracy: 0.5033 - val_loss: 0.6932 - val_accuracy: 0.4800\n",
      "Epoch 31/100\n",
      "57/57 [==============================] - 1s 12ms/step - loss: 0.6932 - accuracy: 0.5033 - val_loss: 0.6932 - val_accuracy: 0.4800\n",
      "Epoch 32/100\n",
      "57/57 [==============================] - 1s 11ms/step - loss: 0.6932 - accuracy: 0.5033 - val_loss: 0.6934 - val_accuracy: 0.4800\n",
      "Epoch 33/100\n",
      "57/57 [==============================] - 1s 12ms/step - loss: 0.6932 - accuracy: 0.5033 - val_loss: 0.6935 - val_accuracy: 0.4800\n",
      "Epoch 34/100\n",
      "57/57 [==============================] - 1s 11ms/step - loss: 0.6934 - accuracy: 0.5033 - val_loss: 0.6935 - val_accuracy: 0.4800\n",
      "Epoch 35/100\n",
      "57/57 [==============================] - 1s 11ms/step - loss: 0.6931 - accuracy: 0.5033 - val_loss: 0.6931 - val_accuracy: 0.4800\n",
      "Epoch 36/100\n",
      "57/57 [==============================] - 1s 12ms/step - loss: 0.6932 - accuracy: 0.5033 - val_loss: 0.6932 - val_accuracy: 0.4800\n",
      "Epoch 37/100\n",
      "57/57 [==============================] - 1s 12ms/step - loss: 0.6933 - accuracy: 0.5033 - val_loss: 0.6933 - val_accuracy: 0.4800\n",
      "Epoch 38/100\n",
      "57/57 [==============================] - 1s 12ms/step - loss: 0.6931 - accuracy: 0.5033 - val_loss: 0.6931 - val_accuracy: 0.4800\n",
      "Epoch 39/100\n",
      "57/57 [==============================] - 1s 11ms/step - loss: 0.6932 - accuracy: 0.5033 - val_loss: 0.6930 - val_accuracy: 0.4800\n",
      "Epoch 40/100\n",
      "57/57 [==============================] - 1s 12ms/step - loss: 0.6932 - accuracy: 0.5033 - val_loss: 0.6931 - val_accuracy: 0.4800\n",
      "Epoch 41/100\n",
      "57/57 [==============================] - 1s 12ms/step - loss: 0.6933 - accuracy: 0.5033 - val_loss: 0.6932 - val_accuracy: 0.4800\n",
      "Epoch 42/100\n",
      "57/57 [==============================] - 1s 11ms/step - loss: 0.6932 - accuracy: 0.5033 - val_loss: 0.6933 - val_accuracy: 0.4800\n",
      "Epoch 43/100\n",
      "57/57 [==============================] - 1s 12ms/step - loss: 0.6934 - accuracy: 0.5033 - val_loss: 0.6928 - val_accuracy: 0.4800\n",
      "Epoch 44/100\n",
      "57/57 [==============================] - 1s 12ms/step - loss: 0.6932 - accuracy: 0.5033 - val_loss: 0.6928 - val_accuracy: 0.4800\n",
      "Epoch 45/100\n",
      "57/57 [==============================] - 1s 12ms/step - loss: 0.6931 - accuracy: 0.5033 - val_loss: 0.6931 - val_accuracy: 0.4800\n",
      "Epoch 46/100\n",
      "57/57 [==============================] - 1s 12ms/step - loss: 0.6932 - accuracy: 0.5033 - val_loss: 0.6930 - val_accuracy: 0.4800\n",
      "Epoch 47/100\n",
      "57/57 [==============================] - 1s 12ms/step - loss: 0.6932 - accuracy: 0.5033 - val_loss: 0.6932 - val_accuracy: 0.4800\n",
      "Epoch 48/100\n",
      "57/57 [==============================] - 1s 12ms/step - loss: 0.6932 - accuracy: 0.5033 - val_loss: 0.6931 - val_accuracy: 0.4800\n",
      "Epoch 49/100\n",
      "57/57 [==============================] - 1s 12ms/step - loss: 0.6933 - accuracy: 0.5033 - val_loss: 0.6928 - val_accuracy: 0.4800\n",
      "Epoch 50/100\n",
      "57/57 [==============================] - 1s 11ms/step - loss: 0.6932 - accuracy: 0.5033 - val_loss: 0.6933 - val_accuracy: 0.4800\n",
      "Epoch 51/100\n",
      "57/57 [==============================] - 1s 12ms/step - loss: 0.6933 - accuracy: 0.5033 - val_loss: 0.6931 - val_accuracy: 0.4800\n",
      "Epoch 52/100\n",
      "57/57 [==============================] - 1s 11ms/step - loss: 0.6934 - accuracy: 0.5033 - val_loss: 0.6932 - val_accuracy: 0.4800\n",
      "Epoch 53/100\n",
      "57/57 [==============================] - 1s 12ms/step - loss: 0.6932 - accuracy: 0.5033 - val_loss: 0.6932 - val_accuracy: 0.4800\n",
      "Epoch 54/100\n",
      "57/57 [==============================] - 1s 11ms/step - loss: 0.6934 - accuracy: 0.5033 - val_loss: 0.6929 - val_accuracy: 0.4800\n",
      "Epoch 55/100\n",
      "57/57 [==============================] - 1s 11ms/step - loss: 0.6932 - accuracy: 0.5033 - val_loss: 0.6930 - val_accuracy: 0.4800\n",
      "Epoch 56/100\n",
      "57/57 [==============================] - 1s 12ms/step - loss: 0.6932 - accuracy: 0.5033 - val_loss: 0.6929 - val_accuracy: 0.4800\n",
      "Epoch 57/100\n",
      "57/57 [==============================] - 1s 11ms/step - loss: 0.6932 - accuracy: 0.5033 - val_loss: 0.6931 - val_accuracy: 0.4800\n",
      "Epoch 58/100\n",
      "57/57 [==============================] - 1s 12ms/step - loss: 0.6932 - accuracy: 0.5033 - val_loss: 0.6931 - val_accuracy: 0.4800\n",
      "Epoch 59/100\n",
      "57/57 [==============================] - 1s 12ms/step - loss: 0.6932 - accuracy: 0.5033 - val_loss: 0.6933 - val_accuracy: 0.4800\n",
      "Epoch 60/100\n",
      "57/57 [==============================] - 1s 12ms/step - loss: 0.6932 - accuracy: 0.5033 - val_loss: 0.6930 - val_accuracy: 0.4800\n",
      "Epoch 61/100\n",
      "57/57 [==============================] - 1s 12ms/step - loss: 0.6931 - accuracy: 0.5033 - val_loss: 0.6931 - val_accuracy: 0.4800\n",
      "Epoch 62/100\n",
      "57/57 [==============================] - 1s 11ms/step - loss: 0.6932 - accuracy: 0.5033 - val_loss: 0.6931 - val_accuracy: 0.4800\n",
      "Epoch 63/100\n",
      "57/57 [==============================] - 1s 11ms/step - loss: 0.6931 - accuracy: 0.5033 - val_loss: 0.6930 - val_accuracy: 0.4800\n",
      "Epoch 64/100\n",
      "57/57 [==============================] - 1s 12ms/step - loss: 0.6932 - accuracy: 0.5033 - val_loss: 0.6929 - val_accuracy: 0.4800\n",
      "Epoch 65/100\n",
      "57/57 [==============================] - 1s 12ms/step - loss: 0.6932 - accuracy: 0.5033 - val_loss: 0.6932 - val_accuracy: 0.4800\n",
      "Epoch 66/100\n",
      "57/57 [==============================] - 1s 12ms/step - loss: 0.6933 - accuracy: 0.5033 - val_loss: 0.6932 - val_accuracy: 0.4800\n",
      "Epoch 67/100\n",
      "57/57 [==============================] - 1s 12ms/step - loss: 0.6932 - accuracy: 0.5033 - val_loss: 0.6932 - val_accuracy: 0.4800\n",
      "Epoch 68/100\n",
      "57/57 [==============================] - 1s 11ms/step - loss: 0.6931 - accuracy: 0.5033 - val_loss: 0.6931 - val_accuracy: 0.4800\n",
      "Epoch 69/100\n",
      "57/57 [==============================] - 1s 12ms/step - loss: 0.6933 - accuracy: 0.5033 - val_loss: 0.6929 - val_accuracy: 0.4800\n",
      "Epoch 70/100\n",
      "57/57 [==============================] - 1s 12ms/step - loss: 0.6931 - accuracy: 0.5033 - val_loss: 0.6929 - val_accuracy: 0.4800\n",
      "Epoch 71/100\n",
      "57/57 [==============================] - 1s 12ms/step - loss: 0.6931 - accuracy: 0.5033 - val_loss: 0.6927 - val_accuracy: 0.4800\n",
      "Epoch 72/100\n",
      "57/57 [==============================] - 1s 12ms/step - loss: 0.6931 - accuracy: 0.5033 - val_loss: 0.6929 - val_accuracy: 0.4800\n",
      "Epoch 73/100\n",
      "57/57 [==============================] - 1s 12ms/step - loss: 0.6931 - accuracy: 0.5033 - val_loss: 0.6927 - val_accuracy: 0.4800\n",
      "Epoch 74/100\n",
      "57/57 [==============================] - 1s 11ms/step - loss: 0.6930 - accuracy: 0.5033 - val_loss: 0.6930 - val_accuracy: 0.4800\n",
      "Epoch 75/100\n",
      "57/57 [==============================] - 1s 12ms/step - loss: 0.6931 - accuracy: 0.5033 - val_loss: 0.6929 - val_accuracy: 0.4800\n",
      "Epoch 76/100\n",
      "57/57 [==============================] - 1s 12ms/step - loss: 0.6934 - accuracy: 0.5033 - val_loss: 0.6924 - val_accuracy: 0.4800\n",
      "Epoch 77/100\n",
      "57/57 [==============================] - 1s 12ms/step - loss: 0.6931 - accuracy: 0.5033 - val_loss: 0.6925 - val_accuracy: 0.4800\n",
      "Epoch 78/100\n",
      "57/57 [==============================] - 1s 12ms/step - loss: 0.6929 - accuracy: 0.5033 - val_loss: 0.6922 - val_accuracy: 0.4800\n",
      "Epoch 79/100\n",
      "57/57 [==============================] - 1s 12ms/step - loss: 0.6929 - accuracy: 0.5033 - val_loss: 0.6920 - val_accuracy: 0.4800\n",
      "Epoch 80/100\n",
      "57/57 [==============================] - 1s 12ms/step - loss: 0.6930 - accuracy: 0.5033 - val_loss: 0.6916 - val_accuracy: 0.4800\n",
      "Epoch 81/100\n",
      "57/57 [==============================] - 1s 12ms/step - loss: 0.6927 - accuracy: 0.5033 - val_loss: 0.6909 - val_accuracy: 0.4800\n",
      "Epoch 82/100\n",
      "57/57 [==============================] - 1s 12ms/step - loss: 0.6930 - accuracy: 0.5033 - val_loss: 0.6908 - val_accuracy: 0.4800\n",
      "Epoch 83/100\n",
      "57/57 [==============================] - 1s 12ms/step - loss: 0.6931 - accuracy: 0.5033 - val_loss: 0.6906 - val_accuracy: 0.4800\n",
      "Epoch 84/100\n",
      "57/57 [==============================] - 1s 12ms/step - loss: 0.6928 - accuracy: 0.5033 - val_loss: 0.6909 - val_accuracy: 0.4800\n",
      "Epoch 85/100\n",
      "57/57 [==============================] - 1s 12ms/step - loss: 0.6927 - accuracy: 0.5033 - val_loss: 0.6907 - val_accuracy: 0.4800\n",
      "Epoch 86/100\n",
      "57/57 [==============================] - 1s 11ms/step - loss: 0.6926 - accuracy: 0.5033 - val_loss: 0.6904 - val_accuracy: 0.4800\n",
      "Epoch 87/100\n",
      "57/57 [==============================] - 1s 12ms/step - loss: 0.6927 - accuracy: 0.5033 - val_loss: 0.6902 - val_accuracy: 0.4800\n",
      "Epoch 88/100\n",
      "57/57 [==============================] - 1s 12ms/step - loss: 0.6925 - accuracy: 0.5033 - val_loss: 0.6900 - val_accuracy: 0.4800\n",
      "Epoch 89/100\n",
      "57/57 [==============================] - 1s 12ms/step - loss: 0.6931 - accuracy: 0.5033 - val_loss: 0.6903 - val_accuracy: 0.4800\n",
      "Epoch 90/100\n",
      "57/57 [==============================] - 1s 12ms/step - loss: 0.6923 - accuracy: 0.5033 - val_loss: 0.6891 - val_accuracy: 0.4800\n",
      "Epoch 91/100\n",
      "57/57 [==============================] - 1s 13ms/step - loss: 0.6923 - accuracy: 0.5033 - val_loss: 0.6888 - val_accuracy: 0.4800\n",
      "Epoch 92/100\n",
      "57/57 [==============================] - 1s 12ms/step - loss: 0.6923 - accuracy: 0.5033 - val_loss: 0.6885 - val_accuracy: 0.4800\n",
      "Epoch 93/100\n",
      "57/57 [==============================] - 1s 12ms/step - loss: 0.6922 - accuracy: 0.5033 - val_loss: 0.6889 - val_accuracy: 0.4800\n",
      "Epoch 94/100\n",
      "57/57 [==============================] - 1s 12ms/step - loss: 0.6928 - accuracy: 0.5033 - val_loss: 0.6891 - val_accuracy: 0.4800\n",
      "Epoch 95/100\n",
      "57/57 [==============================] - 1s 12ms/step - loss: 0.6922 - accuracy: 0.5033 - val_loss: 0.6877 - val_accuracy: 0.4800\n",
      "Epoch 96/100\n",
      "57/57 [==============================] - 1s 11ms/step - loss: 0.6919 - accuracy: 0.5033 - val_loss: 0.6881 - val_accuracy: 0.4800\n",
      "Epoch 97/100\n",
      "57/57 [==============================] - 1s 11ms/step - loss: 0.6920 - accuracy: 0.5033 - val_loss: 0.6879 - val_accuracy: 0.4800\n",
      "Epoch 98/100\n",
      "57/57 [==============================] - 1s 11ms/step - loss: 0.6919 - accuracy: 0.5033 - val_loss: 0.6876 - val_accuracy: 0.4800\n",
      "Epoch 99/100\n",
      "57/57 [==============================] - 1s 11ms/step - loss: 0.6919 - accuracy: 0.5033 - val_loss: 0.6872 - val_accuracy: 0.4800\n",
      "Epoch 100/100\n",
      "57/57 [==============================] - 1s 12ms/step - loss: 0.6918 - accuracy: 0.5033 - val_loss: 0.6862 - val_accuracy: 0.4800\n"
     ]
    }
   ],
   "source": [
    "small_rnn_results = small_rnn_model.fit(small_X_train, small_y_train, epochs=100, batch_size=16, verbose=1, validation_split=0.2, callbacks=[])"
   ]
  },
  {
   "cell_type": "code",
   "execution_count": 82,
   "metadata": {},
   "outputs": [
    {
     "data": {
      "text/plain": [
       "<matplotlib.legend.Legend at 0x17bf58700>"
      ]
     },
     "execution_count": 82,
     "metadata": {},
     "output_type": "execute_result"
    },
    {
     "data": {
      "image/png": "[encoded data removed]",
      "text/plain": [
       "<Figure size 432x288 with 1 Axes>"
      ]
     },
     "metadata": {
      "needs_background": "light"
     },
     "output_type": "display_data"
    }
   ],
   "source": [
    "from matplotlib import pyplot as plt\n",
    "\n",
    "plt.plot(small_rnn_results.history['accuracy'],\n",
    "         label='Accuracy over iterations')\n",
    "plt.plot(small_rnn_results.history['loss'], label='Loss over iterations')\n",
    "plt.legend()"
   ]
  },
  {
   "cell_type": "code",
   "execution_count": 83,
   "metadata": {},
   "outputs": [
    {
     "data": {
      "text/plain": [
       "<matplotlib.legend.Legend at 0x17b7de1c0>"
      ]
     },
     "execution_count": 83,
     "metadata": {},
     "output_type": "execute_result"
    },
    {
     "data": {
      "image/png": "[encoded data removed]",
      "text/plain": [
       "<Figure size 432x288 with 1 Axes>"
      ]
     },
     "metadata": {
      "needs_background": "light"
     },
     "output_type": "display_data"
    }
   ],
   "source": [
    "plt.plot(small_rnn_results.history['val_accuracy'],\n",
    "         label='Validation accuracy over iterations')\n",
    "plt.plot(small_rnn_results.history['val_loss'],\n",
    "         label='Validation loss over iterations')\n",
    "plt.legend()"
   ]
  },
  {
   "cell_type": "code",
   "execution_count": 84,
   "metadata": {},
   "outputs": [
    {
     "name": "stdout",
     "output_type": "stream",
     "text": [
      "Model: \"sequential_10\"\n",
      "_________________________________________________________________\n",
      "Layer (type)                 Output Shape              Param #   \n",
      "=================================================================\n",
      "embedding_8 (Embedding)      (None, 8, 64)             2284288   \n",
      "_________________________________________________________________\n",
      "lstm_10 (LSTM)               (None, 4)                 1104      \n",
      "_________________________________________________________________\n",
      "dense_23 (Dense)             (None, 1)                 5         \n",
      "=================================================================\n",
      "Total params: 2,285,397\n",
      "Trainable params: 2,285,397\n",
      "Non-trainable params: 0\n",
      "_________________________________________________________________\n"
     ]
    }
   ],
   "source": [
    "from tensorflow.keras.layers import LSTM, Embedding\n",
    "\n",
    "rnn_model = keras.Sequential()\n",
    "rnn_model.add(Embedding(len(encoded_correct) + 1, 64, input_length=avg_length))\n",
    "rnn_model.add(LSTM(4, activation='tanh'))\n",
    "rnn_model.add(Dense(1, activation='softmax'))\n",
    "rnn_model.compile(optimizer='adam', loss='binary_crossentropy', metrics=['accuracy'])\n",
    "rnn_model.summary()"
   ]
  },
  {
   "cell_type": "code",
   "execution_count": 85,
   "metadata": {},
   "outputs": [
    {
     "name": "stdout",
     "output_type": "stream",
     "text": [
      "Epoch 1/100\n"
     ]
    },
    {
     "name": "stderr",
     "output_type": "stream",
     "text": [
      "2021-11-04 10:16:35.164884: I tensorflow/core/grappler/optimizers/custom_graph_optimizer_registry.cc:112] Plugin optimizer for device_type GPU is enabled.\n",
      "2021-11-04 10:16:35.250874: I tensorflow/core/grappler/optimizers/custom_graph_optimizer_registry.cc:112] Plugin optimizer for device_type GPU is enabled.\n"
     ]
    },
    {
     "name": "stdout",
     "output_type": "stream",
     "text": [
      "   1/2856 [..............................] - ETA: 43:08 - loss: 0.6860 - accuracy: 0.6250"
     ]
    },
    {
     "name": "stderr",
     "output_type": "stream",
     "text": [
      "2021-11-04 10:16:35.552701: I tensorflow/core/grappler/optimizers/custom_graph_optimizer_registry.cc:112] Plugin optimizer for device_type GPU is enabled.\n"
     ]
    },
    {
     "name": "stdout",
     "output_type": "stream",
     "text": [
      "1229/2856 [===========>..................] - ETA: 27s - loss: 0.6933 - accuracy: 0.4991"
     ]
    }
   ],
   "source": [
    "rnn_results = rnn_model.fit(X_train, y_train, epochs=100, batch_size=64, verbose=1, validation_split=0.2, callbacks=[])"
   ]
  },
  {
   "cell_type": "code",
   "execution_count": null,
   "metadata": {},
   "outputs": [],
   "source": [
    "from matplotlib import pyplot as plt\n",
    "\n",
    "plt.plot(rnn_results.history['accuracy'],\n",
    "         label='Accuracy over iterations')\n",
    "plt.plot(rnn_results.history['loss'], label='Loss over iterations')\n",
    "plt.legend()"
   ]
  },
  {
   "cell_type": "code",
   "execution_count": null,
   "metadata": {},
   "outputs": [],
   "source": [
    "plt.plot(rnn_results.history['val_accuracy'],\n",
    "         label='Validation accuracy over iterations')\n",
    "plt.plot(rnn_results.history['val_loss'],\n",
    "         label='Validation loss over iterations')\n",
    "plt.legend()"
   ]
  },
  {
   "cell_type": "markdown",
   "metadata": {},
   "source": [
    "# Part 8: Comparing Network Scores"
   ]
  },
  {
   "cell_type": "code",
   "execution_count": null,
   "metadata": {},
   "outputs": [],
   "source": [
    "NETWORKS = [init_model, small_model, small_rnn_model, rnn_model]\n",
    "RESULTS = {\n",
    "    \"Original (Avg Length)\": training_results,\n",
    "    \"Small (3 Chars)\": small_training_results,\n",
    "    \"Small RNN (3 Chars)\": small_rnn_results,\n",
    "    \"RNN (Avg. Length\": rnn_results\n",
    "}"
   ]
  },
  {
   "cell_type": "code",
   "execution_count": null,
   "metadata": {},
   "outputs": [
    {
     "data": {
      "text/plain": [
       "<matplotlib.legend.Legend at 0x17e4bdc70>"
      ]
     },
     "execution_count": 60,
     "metadata": {},
     "output_type": "execute_result"
    },
    {
     "data": {
      "image/png": "[encoded data removed]",
      "text/plain": [
       "<Figure size 432x288 with 1 Axes>"
      ]
     },
     "metadata": {
      "needs_background": "light"
     },
     "output_type": "display_data"
    }
   ],
   "source": [
    "for RESULT_NAME, RESULT_DATA in RESULTS.items():\n",
    "    plt.plot(RESULT_DATA.history[\"loss\"], label=RESULT_NAME)\n",
    "plt.title('Loss of Networks')\n",
    "plt.legend()"
   ]
  },
  {
   "cell_type": "code",
   "execution_count": null,
   "metadata": {},
   "outputs": [
    {
     "data": {
      "text/plain": [
       "<matplotlib.legend.Legend at 0x17fe9be50>"
      ]
     },
     "execution_count": 61,
     "metadata": {},
     "output_type": "execute_result"
    },
    {
     "data": {
      "image/png": "[encoded data removed]",
      "text/plain": [
       "<Figure size 432x288 with 1 Axes>"
      ]
     },
     "metadata": {
      "needs_background": "light"
     },
     "output_type": "display_data"
    }
   ],
   "source": [
    "for RESULT_NAME, RESULT_DATA in RESULTS.items():\n",
    "    plt.plot(RESULT_DATA.history[\"accuracy\"], label=RESULT_NAME)\n",
    "plt.title('Accuracy of Networks')\n",
    "plt.legend()"
   ]
  },
  {
   "cell_type": "code",
   "execution_count": null,
   "metadata": {},
   "outputs": [
    {
     "data": {
      "text/plain": [
       "<matplotlib.legend.Legend at 0x17fe537c0>"
      ]
     },
     "execution_count": 62,
     "metadata": {},
     "output_type": "execute_result"
    },
    {
     "data": {
      "image/png": "[encoded data removed]",
      "text/plain": [
       "<Figure size 432x288 with 1 Axes>"
      ]
     },
     "metadata": {
      "needs_background": "light"
     },
     "output_type": "display_data"
    }
   ],
   "source": [
    "for RESULT_NAME, RESULT_DATA in RESULTS.items():\n",
    "    plt.plot(RESULT_DATA.history[\"val_loss\"], label=RESULT_NAME)\n",
    "plt.title('Validation Loss of Networks')\n",
    "plt.legend()"
   ]
  },
  {
   "cell_type": "code",
   "execution_count": null,
   "metadata": {},
   "outputs": [
    {
     "data": {
      "text/plain": [
       "<matplotlib.legend.Legend at 0x17ff7b160>"
      ]
     },
     "execution_count": 63,
     "metadata": {},
     "output_type": "execute_result"
    },
    {
     "data": {
      "image/png": "[encoded data removed]",
      "text/plain": [
       "<Figure size 432x288 with 1 Axes>"
      ]
     },
     "metadata": {
      "needs_background": "light"
     },
     "output_type": "display_data"
    }
   ],
   "source": [
    "for RESULT_NAME, RESULT_DATA in RESULTS.items():\n",
    "    plt.plot(RESULT_DATA.history[\"val_accuracy\"], label=RESULT_NAME)\n",
    "plt.title('Validation Accuracy of Networks')\n",
    "plt.legend()"
   ]
  }
 ],
 "metadata": {
  "interpreter": {
   "hash": "ae728774eee256562aff2651c76309c3916f29437b55f618701e1f4834ebef1b"
  },
  "kernelspec": {
   "display_name": "Python 3.9.7 64-bit ('env_tensorflow': conda)",
   "name": "python3"
  },
  "language_info": {
   "codemirror_mode": {
    "name": "ipython",
    "version": 3
   },
   "file_extension": ".py",
   "mimetype": "text/x-python",
   "name": "python",
   "nbconvert_exporter": "python",
   "pygments_lexer": "ipython3",
   "version": "3.9.7"
  }
 },
 "nbformat": 4,
 "nbformat_minor": 2
}
