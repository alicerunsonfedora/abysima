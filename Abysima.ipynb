{
 "cells": [
  {
   "cell_type": "markdown",
   "metadata": {
    "pycharm": {
     "name": "#%% md\n"
    }
   },
   "source": [
    "# Project Abysima: Generating a Language with Machine Learning\n",
    "\n",
    "The following notebook will experiment with generating a language using neural networks and generative deep learning.\n",
    "This is, by no means, a production-ready system, nor is it a complete network; rather, the purpose of this experiment\n",
    "is to see what is possible with creating a language.\n",
    "\n",
    "For more information on the process and supporting research, please refer to the Linguistics Paper document found in the\n",
    "`01 - Areas of Responsibility` directory.\n",
    "\n",
    "The following source code and datasets are licensed under the Mozilla Public License v2.0. Please refer to the LICENSE\n",
    "file that came with this repository for more information on what your rights are with usage and modification of this\n",
    "software. If a LICENSE file is not provided, you can obtain a copy at https://www.mozilla.org/en-US/MPL/2.0/.\n"
   ]
  },
  {
   "cell_type": "markdown",
   "metadata": {},
   "source": [
    "## Part 1: Initial Setup\n",
    "\n",
    "We'll need to write some utilities and codes that will allow us to generate, predict, and validate words. This\n",
    "section will allow us to do just that.\n"
   ]
  },
  {
   "cell_type": "code",
   "execution_count": 45,
   "metadata": {
    "scrolled": true
   },
   "outputs": [
    {
     "name": "stdout",
     "output_type": "stream",
     "text": [
      "Number of admissible words from outside_sources/words: 63160\n",
      "Number of total words including Japanese words: 63775\n"
     ]
    }
   ],
   "source": [
    "# Unix-based and Unix-like systems have a file on the computer that contains a list of words used for spell-checking.\n",
    "# This file is located in /usr/share/dict/words and contains various parts of speech, including proper nouns. For the\n",
    "# purposes of this experiment, a copy provided from an installation of Pop!_OS 20.04 LTS (based on Ubuntu) will be used.\n",
    "# If that file cannot be located, the file located on the system will be used instead.\n",
    "import os\n",
    "\n",
    "\n",
    "def is_admissible(word: str) -> bool:\n",
    "    \"\"\"Returns whether a word is considered admissible for the dataset.\n",
    "    \n",
    "    For the purposes of the dataset, a word is admissible if it conforms to the following:\n",
    "    - The word must be at least three characters long.\n",
    "    - The word only contains ASCII characters; i.e., the word does not have any accents.\n",
    "    - The word only contains letters in the alphabet\n",
    "    - The word is not a proper noun or acronym (i.e., the word doesn't have uppercase letters)\n",
    "    - The word is not a contraction.\n",
    "    \"\"\"\n",
    "    real_word = word.strip()\n",
    "    return len(real_word) >= 3 and real_word.isascii() and real_word.isalpha() and real_word.islower(\n",
    "    ) and not real_word.endswith(\"'s\")\n",
    "\n",
    "\n",
    "# Open the words file and grab all of the admissible words.\n",
    "WORDS_FILE = \"outside_sources/words\" if os.path.isfile(\n",
    "    \"outside_sources/words\") else \"/usr/share/dict/words\"\n",
    "with open(WORDS_FILE, 'r') as words:\n",
    "    valid_words = [\n",
    "        w.strip().lower() for w in words.readlines() if is_admissible(w)\n",
    "    ]\n",
    "print(f\"Number of admissible words from {WORDS_FILE}: {len(valid_words)}\")\n",
    "\n",
    "# Open the converted dataset from the Wiktionary page and import that into the list of valid words.\n",
    "with open(\"outside_sources/jp-romaji.txt\") as jp_data:\n",
    "    valid_words += [w.strip().lower() for w in jp_data.readlines()]\n",
    "\n",
    "print(f\"Number of total words including Japanese words: {len(valid_words)}\")\n"
   ]
  },
  {
   "cell_type": "code",
   "execution_count": 46,
   "metadata": {
    "scrolled": false
   },
   "outputs": [],
   "source": [
    "# Create a bunch of nonsencial words that are not valid.\n",
    "from random import randrange\n",
    "from string import ascii_lowercase\n",
    "\n",
    "\n",
    "def random_string(max_size: int) -> str:\n",
    "    \"\"\"Returns a string of a random length between 3 and 12 characters, with no syllabic structure in mind.\"\"\"\n",
    "    length = randrange(3, max_size)\n",
    "    string = \"\"\n",
    "    for _ in range(length):\n",
    "        next_index = randrange(0, len(ascii_lowercase) - 1)\n",
    "        string += ascii_lowercase[next_index]\n",
    "    return string\n",
    "\n",
    "# Assemble the dataset with the valid and invalid words. Words that are valid will be marked as 1 for its output,\n",
    "# and words that are not valid are marked as 0 for its output.\n",
    "from string import ascii_lowercase\n",
    "import numpy as np\n",
    "\n",
    "\n",
    "def map_word(word: str) -> list:\n",
    "    \"\"\"Returns a list of numbers from 1 to 26 that represent the various letters in the alphabet.\"\"\"\n",
    "    get_idx = lambda i: ascii_lowercase.index(i) + 1\n",
    "    return [get_idx(c) for c in word]"
   ]
  },
  {
   "cell_type": "code",
   "execution_count": 47,
   "metadata": {
    "scrolled": true
   },
   "outputs": [
    {
     "name": "stdout",
     "output_type": "stream",
     "text": [
      "Average word length: 8\n",
      "Filtered dataset size based on average length: 35691\n",
      "['jtjjpxc', 'jtp', 'msevwfa', 'upothx', 'vbpt', 'kepa', 'dvpvvs', 'ckkcesy', 'lmujji', 'axjbo']\n",
      "[[0.03846154 0.03846154 0.69230769 0.15384615 0.84615385 0.03846154\n",
      "  0.69230769 0.42307692]\n",
      " [0.03846154 0.07692308 0.03846154 0.11538462 0.34615385 0.\n",
      "  0.         0.        ]\n",
      " [0.03846154 0.07692308 0.03846154 0.11538462 0.42307692 0.\n",
      "  0.         0.        ]\n",
      " [0.03846154 0.07692308 0.03846154 0.11538462 0.80769231 0.73076923\n",
      "  0.         0.        ]\n",
      " [0.03846154 0.07692308 0.03846154 0.11538462 0.80769231 0.73076923\n",
      "  0.19230769 0.73076923]]\n"
     ]
    }
   ],
   "source": [
    "from tensorflow.keras.preprocessing.sequence import pad_sequences\n",
    "\n",
    "# Get the average length of words in the dataset, and filter out any words larger than the average length.\n",
    "avg_length = sum([len(str(w)) for w in valid_words]) // len(valid_words)\n",
    "print(f\"Average word length: {avg_length}\")\n",
    "valid_words = [w for w in valid_words if len(w) <= avg_length]\n",
    "print(f\"Filtered dataset size based on average length: {len(valid_words)}\")\n",
    "\n",
    "# Create nonsensical words that match the average length.\n",
    "invalid = [random_string(avg_length) for _ in range(len(valid_words))]\n",
    "print(invalid[:10])\n",
    "\n",
    "# Encode the data set into a format that the neural network will be able to understand.\n",
    "encoded_correct = [map_word(str(word)) for word in valid_words]\n",
    "encoded_invalid = [map_word(str(word)) for word in invalid]\n",
    "\n",
    "Y_correct   = [[1] for _ in range(len(encoded_correct))]\n",
    "Y_incorrect = [[0] for _ in range(len(encoded_invalid))]\n",
    "\n",
    "# Use padding to make all the words the same length, adding zeroes at the end.\n",
    "pre_padded_X = np.array(encoded_correct + encoded_invalid, dtype=object)\n",
    "X = pad_sequences(pre_padded_X, padding=\"post\", maxlen=avg_length)\n",
    "\n",
    "# Divide the dataset's elements by the number of letters in the alphabet to normalize the data.\n",
    "X = X / 26\n",
    "Y = np.array(Y_correct + Y_incorrect)\n",
    "\n",
    "# print(X.shape)\n",
    "print(X[:5])"
   ]
  },
  {
   "cell_type": "markdown",
   "metadata": {},
   "source": [
    "## Part 2: Splitting Models for Validation and Testing\n",
    "\n",
    "In order to prevent the neural network we will generate from overcorrecting itself or memorizing the data we give\n",
    "it, we will create three different sets of the dataset: a training set, a validation set, and a testing set. The\n",
    "training set will be used to train the model, and the model will use the validation set occasionally to validate\n",
    "that it isn't overfitting. We will then use the testing set to test out the model and see what comes out of it.\n",
    "\n",
    "To accomplish this, we will use a 60% training/20% validation/20% testing split for the datasets.\n"
   ]
  },
  {
   "cell_type": "code",
   "execution_count": 48,
   "metadata": {},
   "outputs": [],
   "source": [
    "# Split the data in training and testing data. When we fit the model, we can specify a validation set.\n",
    "from sklearn.model_selection import train_test_split\n",
    "\n",
    "X_train, X_test, y_train, y_test = train_test_split(X, Y, test_size=0.2, random_state=1498)"
   ]
  },
  {
   "cell_type": "markdown",
   "metadata": {},
   "source": [
    "## Part 3: Creating The Predictive Model\n",
    "\n",
    "Now that we have a dataset, we will create the neural network model with Keras and fit it using the training data.\n",
    "This will also use a small portion of that data for validation purposes.\n"
   ]
  },
  {
   "cell_type": "code",
   "execution_count": 49,
   "metadata": {},
   "outputs": [
    {
     "name": "stdout",
     "output_type": "stream",
     "text": [
      "2.6.0\n",
      "Model: \"Abysima_2\"\n",
      "_________________________________________________________________\n",
      "Layer (type)                 Output Shape              Param #   \n",
      "=================================================================\n",
      "dense_3 (Dense)              (None, 8)                 72        \n",
      "_________________________________________________________________\n",
      "dense_4 (Dense)              (None, 32)                288       \n",
      "_________________________________________________________________\n",
      "dense_5 (Dense)              (None, 1)                 33        \n",
      "=================================================================\n",
      "Total params: 393\n",
      "Trainable params: 393\n",
      "Non-trainable params: 0\n",
      "_________________________________________________________________\n"
     ]
    }
   ],
   "source": [
    "# Start by creating the model.\n",
    "from tensorflow import keras\n",
    "from tensorflow.keras.layers import Dense\n",
    "from tensorflow.keras.callbacks import EarlyStopping\n",
    "\n",
    "print(keras.__version__)\n",
    "\n",
    "model = keras.Sequential(name=\"Abysima_2\")\n",
    "model.add(Dense(avg_length, input_dim=avg_length, activation='relu'))\n",
    "model.add(Dense(avg_length * 4, activation='relu'))\n",
    "# model.add(Dense(max_len/4, activation='relu'))\n",
    "model.add(Dense(1, activation='softmax'))\n",
    "\n",
    "# Create an early stopping mechanism to stop early if accuracy isn't improving after a certain point. This prevents\n",
    "# unnecessary computations.\n",
    "stop_early = EarlyStopping(monitor='accuracy', patience=7)\n",
    "\n",
    "# Compile the model.\n",
    "model.compile(loss='binary_crossentropy',\n",
    "              optimizer='adam',\n",
    "              metrics=['accuracy'])\n",
    "model.summary()"
   ]
  },
  {
   "cell_type": "code",
   "execution_count": 50,
   "metadata": {
    "scrolled": false
   },
   "outputs": [
    {
     "name": "stdout",
     "output_type": "stream",
     "text": [
      "Epoch 1/100\n",
      " 19/714 [..............................] - ETA: 4s - loss: 0.6891 - accuracy: 0.5049"
     ]
    },
    {
     "name": "stderr",
     "output_type": "stream",
     "text": [
      "2021-10-28 09:56:52.942054: I tensorflow/core/grappler/optimizers/custom_graph_optimizer_registry.cc:112] Plugin optimizer for device_type GPU is enabled.\n"
     ]
    },
    {
     "name": "stdout",
     "output_type": "stream",
     "text": [
      "711/714 [============================>.] - ETA: 0s - loss: 0.5853 - accuracy: 0.4976"
     ]
    },
    {
     "name": "stderr",
     "output_type": "stream",
     "text": [
      "2021-10-28 09:56:56.266457: I tensorflow/core/grappler/optimizers/custom_graph_optimizer_registry.cc:112] Plugin optimizer for device_type GPU is enabled.\n"
     ]
    },
    {
     "name": "stdout",
     "output_type": "stream",
     "text": [
      "714/714 [==============================] - 4s 5ms/step - loss: 0.5851 - accuracy: 0.4975 - val_loss: 0.5329 - val_accuracy: 0.5037\n",
      "Epoch 2/100\n",
      "714/714 [==============================] - 3s 5ms/step - loss: 0.5212 - accuracy: 0.4975 - val_loss: 0.5115 - val_accuracy: 0.5037\n",
      "Epoch 3/100\n",
      "714/714 [==============================] - 3s 5ms/step - loss: 0.5101 - accuracy: 0.4975 - val_loss: 0.5060 - val_accuracy: 0.5037\n",
      "Epoch 4/100\n",
      "714/714 [==============================] - 3s 5ms/step - loss: 0.5063 - accuracy: 0.4975 - val_loss: 0.5045 - val_accuracy: 0.5037\n",
      "Epoch 5/100\n",
      "714/714 [==============================] - 3s 5ms/step - loss: 0.5034 - accuracy: 0.4975 - val_loss: 0.5016 - val_accuracy: 0.5037\n",
      "Epoch 6/100\n",
      "714/714 [==============================] - 3s 5ms/step - loss: 0.5010 - accuracy: 0.4975 - val_loss: 0.4989 - val_accuracy: 0.5037\n",
      "Epoch 7/100\n",
      "714/714 [==============================] - 3s 5ms/step - loss: 0.4991 - accuracy: 0.4975 - val_loss: 0.4993 - val_accuracy: 0.5037\n",
      "Epoch 8/100\n",
      "714/714 [==============================] - 3s 5ms/step - loss: 0.4972 - accuracy: 0.4975 - val_loss: 0.4965 - val_accuracy: 0.5037\n",
      "Epoch 9/100\n",
      "714/714 [==============================] - 3s 5ms/step - loss: 0.4961 - accuracy: 0.4975 - val_loss: 0.4942 - val_accuracy: 0.5037\n",
      "Epoch 10/100\n",
      "714/714 [==============================] - 3s 5ms/step - loss: 0.4938 - accuracy: 0.4975 - val_loss: 0.4936 - val_accuracy: 0.5037\n",
      "Epoch 11/100\n",
      "714/714 [==============================] - 3s 5ms/step - loss: 0.4914 - accuracy: 0.4975 - val_loss: 0.4918 - val_accuracy: 0.5037\n",
      "Epoch 12/100\n",
      "714/714 [==============================] - 3s 5ms/step - loss: 0.4897 - accuracy: 0.4975 - val_loss: 0.4896 - val_accuracy: 0.5037\n",
      "Epoch 13/100\n",
      "714/714 [==============================] - 3s 5ms/step - loss: 0.4878 - accuracy: 0.4975 - val_loss: 0.4886 - val_accuracy: 0.5037\n",
      "Epoch 14/100\n",
      "714/714 [==============================] - 3s 5ms/step - loss: 0.4868 - accuracy: 0.4975 - val_loss: 0.4869 - val_accuracy: 0.5037\n",
      "Epoch 15/100\n",
      "714/714 [==============================] - 3s 5ms/step - loss: 0.4852 - accuracy: 0.4975 - val_loss: 0.4870 - val_accuracy: 0.5037\n",
      "Epoch 16/100\n",
      "714/714 [==============================] - 3s 5ms/step - loss: 0.4843 - accuracy: 0.4975 - val_loss: 0.4870 - val_accuracy: 0.5037\n",
      "Epoch 17/100\n",
      "714/714 [==============================] - 4s 5ms/step - loss: 0.4831 - accuracy: 0.4975 - val_loss: 0.4857 - val_accuracy: 0.5037\n",
      "Epoch 18/100\n",
      "714/714 [==============================] - 4s 5ms/step - loss: 0.4826 - accuracy: 0.4975 - val_loss: 0.4857 - val_accuracy: 0.5037\n",
      "Epoch 19/100\n",
      "714/714 [==============================] - 4s 5ms/step - loss: 0.4815 - accuracy: 0.4975 - val_loss: 0.4853 - val_accuracy: 0.5037\n",
      "Epoch 20/100\n",
      "714/714 [==============================] - 4s 5ms/step - loss: 0.4804 - accuracy: 0.4975 - val_loss: 0.4843 - val_accuracy: 0.5037\n",
      "Epoch 21/100\n",
      "714/714 [==============================] - 4s 5ms/step - loss: 0.4800 - accuracy: 0.4975 - val_loss: 0.4862 - val_accuracy: 0.5037\n",
      "Epoch 22/100\n",
      "714/714 [==============================] - 3s 5ms/step - loss: 0.4790 - accuracy: 0.4975 - val_loss: 0.4836 - val_accuracy: 0.5037\n",
      "Epoch 23/100\n",
      "714/714 [==============================] - 3s 5ms/step - loss: 0.4782 - accuracy: 0.4975 - val_loss: 0.4833 - val_accuracy: 0.5037\n",
      "Epoch 24/100\n",
      "714/714 [==============================] - 3s 5ms/step - loss: 0.4772 - accuracy: 0.4975 - val_loss: 0.4833 - val_accuracy: 0.5037\n",
      "Epoch 25/100\n",
      "714/714 [==============================] - 3s 5ms/step - loss: 0.4767 - accuracy: 0.4975 - val_loss: 0.4807 - val_accuracy: 0.5037\n",
      "Epoch 26/100\n",
      "714/714 [==============================] - 3s 5ms/step - loss: 0.4757 - accuracy: 0.4975 - val_loss: 0.4796 - val_accuracy: 0.5037\n",
      "Epoch 27/100\n",
      "714/714 [==============================] - 3s 5ms/step - loss: 0.4746 - accuracy: 0.4975 - val_loss: 0.4801 - val_accuracy: 0.5037\n",
      "Epoch 28/100\n",
      "714/714 [==============================] - 3s 5ms/step - loss: 0.4742 - accuracy: 0.4975 - val_loss: 0.4800 - val_accuracy: 0.5037\n",
      "Epoch 29/100\n",
      "714/714 [==============================] - 3s 5ms/step - loss: 0.4741 - accuracy: 0.4975 - val_loss: 0.4819 - val_accuracy: 0.5037\n",
      "Epoch 30/100\n",
      "714/714 [==============================] - 3s 5ms/step - loss: 0.4730 - accuracy: 0.4975 - val_loss: 0.4835 - val_accuracy: 0.5037\n",
      "Epoch 31/100\n",
      "714/714 [==============================] - 3s 5ms/step - loss: 0.4726 - accuracy: 0.4975 - val_loss: 0.4779 - val_accuracy: 0.5037\n",
      "Epoch 32/100\n",
      "714/714 [==============================] - 3s 5ms/step - loss: 0.4722 - accuracy: 0.4975 - val_loss: 0.4808 - val_accuracy: 0.5037\n",
      "Epoch 33/100\n",
      "714/714 [==============================] - 3s 5ms/step - loss: 0.4717 - accuracy: 0.4975 - val_loss: 0.4779 - val_accuracy: 0.5037\n",
      "Epoch 34/100\n",
      "714/714 [==============================] - 3s 5ms/step - loss: 0.4714 - accuracy: 0.4975 - val_loss: 0.4797 - val_accuracy: 0.5037\n",
      "Epoch 35/100\n",
      "714/714 [==============================] - 3s 5ms/step - loss: 0.4711 - accuracy: 0.4975 - val_loss: 0.4758 - val_accuracy: 0.5037\n",
      "Epoch 36/100\n",
      "714/714 [==============================] - 4s 5ms/step - loss: 0.4707 - accuracy: 0.4975 - val_loss: 0.4758 - val_accuracy: 0.5037\n",
      "Epoch 37/100\n",
      "714/714 [==============================] - 3s 5ms/step - loss: 0.4701 - accuracy: 0.4975 - val_loss: 0.4765 - val_accuracy: 0.5037\n",
      "Epoch 38/100\n",
      "714/714 [==============================] - 3s 5ms/step - loss: 0.4701 - accuracy: 0.4975 - val_loss: 0.4826 - val_accuracy: 0.5037\n",
      "Epoch 39/100\n",
      "714/714 [==============================] - 4s 5ms/step - loss: 0.4695 - accuracy: 0.4975 - val_loss: 0.4773 - val_accuracy: 0.5037\n",
      "Epoch 40/100\n",
      "714/714 [==============================] - 3s 5ms/step - loss: 0.4692 - accuracy: 0.4975 - val_loss: 0.4764 - val_accuracy: 0.5037\n",
      "Epoch 41/100\n",
      "714/714 [==============================] - 3s 5ms/step - loss: 0.4691 - accuracy: 0.4975 - val_loss: 0.4764 - val_accuracy: 0.5037\n",
      "Epoch 42/100\n",
      "714/714 [==============================] - 3s 5ms/step - loss: 0.4694 - accuracy: 0.4975 - val_loss: 0.4772 - val_accuracy: 0.5037\n",
      "Epoch 43/100\n",
      "714/714 [==============================] - 3s 5ms/step - loss: 0.4684 - accuracy: 0.4975 - val_loss: 0.4743 - val_accuracy: 0.5037\n",
      "Epoch 44/100\n",
      "714/714 [==============================] - 3s 5ms/step - loss: 0.4684 - accuracy: 0.4975 - val_loss: 0.4747 - val_accuracy: 0.5037\n",
      "Epoch 45/100\n",
      "714/714 [==============================] - 3s 5ms/step - loss: 0.4679 - accuracy: 0.4975 - val_loss: 0.4767 - val_accuracy: 0.5037\n",
      "Epoch 46/100\n",
      "714/714 [==============================] - 4s 5ms/step - loss: 0.4677 - accuracy: 0.4975 - val_loss: 0.4734 - val_accuracy: 0.5037\n",
      "Epoch 47/100\n",
      "714/714 [==============================] - 3s 5ms/step - loss: 0.4676 - accuracy: 0.4975 - val_loss: 0.4728 - val_accuracy: 0.5037\n",
      "Epoch 48/100\n",
      "714/714 [==============================] - 3s 5ms/step - loss: 0.4675 - accuracy: 0.4975 - val_loss: 0.4733 - val_accuracy: 0.5037\n",
      "Epoch 49/100\n",
      "714/714 [==============================] - 3s 5ms/step - loss: 0.4668 - accuracy: 0.4975 - val_loss: 0.4765 - val_accuracy: 0.5037\n",
      "Epoch 50/100\n",
      "714/714 [==============================] - 3s 5ms/step - loss: 0.4669 - accuracy: 0.4975 - val_loss: 0.4730 - val_accuracy: 0.5037\n",
      "Epoch 51/100\n",
      "714/714 [==============================] - 3s 5ms/step - loss: 0.4667 - accuracy: 0.4975 - val_loss: 0.4727 - val_accuracy: 0.5037\n",
      "Epoch 52/100\n",
      "714/714 [==============================] - 3s 5ms/step - loss: 0.4671 - accuracy: 0.4975 - val_loss: 0.4732 - val_accuracy: 0.5037\n",
      "Epoch 53/100\n",
      "714/714 [==============================] - 3s 5ms/step - loss: 0.4665 - accuracy: 0.4975 - val_loss: 0.4734 - val_accuracy: 0.5037\n",
      "Epoch 54/100\n",
      "714/714 [==============================] - 3s 5ms/step - loss: 0.4664 - accuracy: 0.4975 - val_loss: 0.4721 - val_accuracy: 0.5037\n",
      "Epoch 55/100\n",
      "714/714 [==============================] - 3s 5ms/step - loss: 0.4662 - accuracy: 0.4975 - val_loss: 0.4720 - val_accuracy: 0.5037\n",
      "Epoch 56/100\n",
      "714/714 [==============================] - 3s 5ms/step - loss: 0.4660 - accuracy: 0.4975 - val_loss: 0.4733 - val_accuracy: 0.5037\n",
      "Epoch 57/100\n",
      "714/714 [==============================] - 3s 5ms/step - loss: 0.4659 - accuracy: 0.4975 - val_loss: 0.4720 - val_accuracy: 0.5037\n",
      "Epoch 58/100\n",
      "714/714 [==============================] - 3s 5ms/step - loss: 0.4656 - accuracy: 0.4975 - val_loss: 0.4721 - val_accuracy: 0.5037\n",
      "Epoch 59/100\n",
      "714/714 [==============================] - 3s 5ms/step - loss: 0.4655 - accuracy: 0.4975 - val_loss: 0.4704 - val_accuracy: 0.5037\n",
      "Epoch 60/100\n",
      "714/714 [==============================] - 3s 5ms/step - loss: 0.4655 - accuracy: 0.4975 - val_loss: 0.4723 - val_accuracy: 0.5037\n",
      "Epoch 61/100\n",
      "714/714 [==============================] - 3s 5ms/step - loss: 0.4652 - accuracy: 0.4975 - val_loss: 0.4757 - val_accuracy: 0.5037\n",
      "Epoch 62/100\n",
      "714/714 [==============================] - 3s 5ms/step - loss: 0.4651 - accuracy: 0.4975 - val_loss: 0.4720 - val_accuracy: 0.5037\n",
      "Epoch 63/100\n",
      "714/714 [==============================] - 3s 5ms/step - loss: 0.4648 - accuracy: 0.4975 - val_loss: 0.4730 - val_accuracy: 0.5037\n",
      "Epoch 64/100\n",
      "714/714 [==============================] - 3s 5ms/step - loss: 0.4645 - accuracy: 0.4975 - val_loss: 0.4702 - val_accuracy: 0.5037\n",
      "Epoch 65/100\n",
      "714/714 [==============================] - 3s 5ms/step - loss: 0.4645 - accuracy: 0.4975 - val_loss: 0.4708 - val_accuracy: 0.5037\n",
      "Epoch 66/100\n",
      "714/714 [==============================] - 3s 5ms/step - loss: 0.4647 - accuracy: 0.4975 - val_loss: 0.4696 - val_accuracy: 0.5037\n",
      "Epoch 67/100\n",
      "714/714 [==============================] - 3s 5ms/step - loss: 0.4646 - accuracy: 0.4975 - val_loss: 0.4695 - val_accuracy: 0.5037\n",
      "Epoch 68/100\n",
      "714/714 [==============================] - 3s 5ms/step - loss: 0.4646 - accuracy: 0.4975 - val_loss: 0.4692 - val_accuracy: 0.5037\n",
      "Epoch 69/100\n",
      "714/714 [==============================] - 3s 5ms/step - loss: 0.4641 - accuracy: 0.4975 - val_loss: 0.4698 - val_accuracy: 0.5037\n",
      "Epoch 70/100\n",
      "714/714 [==============================] - 3s 5ms/step - loss: 0.4641 - accuracy: 0.4975 - val_loss: 0.4693 - val_accuracy: 0.5037\n",
      "Epoch 71/100\n",
      "714/714 [==============================] - 3s 5ms/step - loss: 0.4638 - accuracy: 0.4975 - val_loss: 0.4703 - val_accuracy: 0.5037\n",
      "Epoch 72/100\n",
      "714/714 [==============================] - 3s 5ms/step - loss: 0.4637 - accuracy: 0.4975 - val_loss: 0.4702 - val_accuracy: 0.5037\n",
      "Epoch 73/100\n",
      "714/714 [==============================] - 3s 5ms/step - loss: 0.4635 - accuracy: 0.4975 - val_loss: 0.4700 - val_accuracy: 0.5037\n",
      "Epoch 74/100\n",
      "714/714 [==============================] - 3s 5ms/step - loss: 0.4641 - accuracy: 0.4975 - val_loss: 0.4706 - val_accuracy: 0.5037\n",
      "Epoch 75/100\n",
      "714/714 [==============================] - 4s 5ms/step - loss: 0.4633 - accuracy: 0.4975 - val_loss: 0.4698 - val_accuracy: 0.5037\n",
      "Epoch 76/100\n",
      "714/714 [==============================] - 3s 5ms/step - loss: 0.4634 - accuracy: 0.4975 - val_loss: 0.4712 - val_accuracy: 0.5037\n",
      "Epoch 77/100\n",
      "714/714 [==============================] - 3s 5ms/step - loss: 0.4630 - accuracy: 0.4975 - val_loss: 0.4682 - val_accuracy: 0.5037\n",
      "Epoch 78/100\n",
      "714/714 [==============================] - 3s 5ms/step - loss: 0.4631 - accuracy: 0.4975 - val_loss: 0.4697 - val_accuracy: 0.5037\n",
      "Epoch 79/100\n",
      "714/714 [==============================] - 3s 5ms/step - loss: 0.4627 - accuracy: 0.4975 - val_loss: 0.4669 - val_accuracy: 0.5037\n",
      "Epoch 80/100\n",
      "714/714 [==============================] - 3s 5ms/step - loss: 0.4626 - accuracy: 0.4975 - val_loss: 0.4683 - val_accuracy: 0.5037\n",
      "Epoch 81/100\n",
      "714/714 [==============================] - 3s 5ms/step - loss: 0.4626 - accuracy: 0.4975 - val_loss: 0.4677 - val_accuracy: 0.5037\n",
      "Epoch 82/100\n",
      "714/714 [==============================] - 3s 5ms/step - loss: 0.4628 - accuracy: 0.4975 - val_loss: 0.4667 - val_accuracy: 0.5037\n",
      "Epoch 83/100\n",
      "714/714 [==============================] - 3s 5ms/step - loss: 0.4624 - accuracy: 0.4975 - val_loss: 0.4683 - val_accuracy: 0.5037\n",
      "Epoch 84/100\n",
      "714/714 [==============================] - 3s 5ms/step - loss: 0.4626 - accuracy: 0.4975 - val_loss: 0.4663 - val_accuracy: 0.5037\n",
      "Epoch 85/100\n",
      "714/714 [==============================] - 3s 5ms/step - loss: 0.4625 - accuracy: 0.4975 - val_loss: 0.4674 - val_accuracy: 0.5037\n",
      "Epoch 86/100\n",
      "714/714 [==============================] - 3s 5ms/step - loss: 0.4619 - accuracy: 0.4975 - val_loss: 0.4679 - val_accuracy: 0.5037\n",
      "Epoch 87/100\n",
      "714/714 [==============================] - 3s 5ms/step - loss: 0.4620 - accuracy: 0.4975 - val_loss: 0.4678 - val_accuracy: 0.5037\n",
      "Epoch 88/100\n",
      "714/714 [==============================] - 3s 5ms/step - loss: 0.4622 - accuracy: 0.4975 - val_loss: 0.4706 - val_accuracy: 0.5037\n",
      "Epoch 89/100\n",
      "714/714 [==============================] - 3s 5ms/step - loss: 0.4618 - accuracy: 0.4975 - val_loss: 0.4661 - val_accuracy: 0.5037\n",
      "Epoch 90/100\n",
      "714/714 [==============================] - 3s 5ms/step - loss: 0.4615 - accuracy: 0.4975 - val_loss: 0.4664 - val_accuracy: 0.5037\n",
      "Epoch 91/100\n",
      "714/714 [==============================] - 3s 5ms/step - loss: 0.4614 - accuracy: 0.4975 - val_loss: 0.4663 - val_accuracy: 0.5037\n",
      "Epoch 92/100\n",
      "714/714 [==============================] - 3s 5ms/step - loss: 0.4615 - accuracy: 0.4975 - val_loss: 0.4667 - val_accuracy: 0.5037\n",
      "Epoch 93/100\n",
      "714/714 [==============================] - 3s 5ms/step - loss: 0.4618 - accuracy: 0.4975 - val_loss: 0.4653 - val_accuracy: 0.5037\n",
      "Epoch 94/100\n",
      "714/714 [==============================] - 3s 5ms/step - loss: 0.4620 - accuracy: 0.4975 - val_loss: 0.4645 - val_accuracy: 0.5037\n",
      "Epoch 95/100\n",
      "714/714 [==============================] - 3s 5ms/step - loss: 0.4612 - accuracy: 0.4975 - val_loss: 0.4641 - val_accuracy: 0.5037\n",
      "Epoch 96/100\n",
      "714/714 [==============================] - 3s 5ms/step - loss: 0.4610 - accuracy: 0.4975 - val_loss: 0.4668 - val_accuracy: 0.5037\n",
      "Epoch 97/100\n",
      "714/714 [==============================] - 3s 5ms/step - loss: 0.4610 - accuracy: 0.4975 - val_loss: 0.4646 - val_accuracy: 0.5037\n",
      "Epoch 98/100\n",
      "714/714 [==============================] - 3s 5ms/step - loss: 0.4611 - accuracy: 0.4975 - val_loss: 0.4661 - val_accuracy: 0.5037\n",
      "Epoch 99/100\n",
      "714/714 [==============================] - 3s 5ms/step - loss: 0.4609 - accuracy: 0.4975 - val_loss: 0.4647 - val_accuracy: 0.5037\n",
      "Epoch 100/100\n",
      "714/714 [==============================] - 3s 5ms/step - loss: 0.4608 - accuracy: 0.4975 - val_loss: 0.4647 - val_accuracy: 0.5037\n"
     ]
    }
   ],
   "source": [
    "# Fit the model to our dataset. In this instance, the model will run a batch gradient descent learning algorithm\n",
    "# for 100 epochs with a determined batch size. Additionally, it will set aside 20% of the data for validation.\n",
    "training_results = model.fit(X_train,\n",
    "                             y_train,\n",
    "                             epochs=100,\n",
    "                             batch_size=64,\n",
    "                             verbose=1,\n",
    "                             validation_split=0.2,\n",
    "                             callbacks=[])\n"
   ]
  },
  {
   "cell_type": "code",
   "execution_count": 51,
   "metadata": {},
   "outputs": [
    {
     "data": {
      "text/plain": [
       "<matplotlib.legend.Legend at 0x153ba1100>"
      ]
     },
     "execution_count": 51,
     "metadata": {},
     "output_type": "execute_result"
    },
    {
     "data": {
      "image/png": "[encoded data removed]",
      "text/plain": [
       "<Figure size 432x288 with 1 Axes>"
      ]
     },
     "metadata": {
      "needs_background": "light"
     },
     "output_type": "display_data"
    }
   ],
   "source": [
    "# Plot the accuracy and loss changes for comparison. If we see an overlap, there may be overfitting involved.\n",
    "from matplotlib import pyplot as plt\n",
    "\n",
    "plt.plot(training_results.history['accuracy'],\n",
    "         label='Accuracy over iterations')\n",
    "plt.plot(training_results.history['loss'], label='Loss over iterations')\n",
    "plt.legend()"
   ]
  },
  {
   "cell_type": "code",
   "execution_count": 52,
   "metadata": {},
   "outputs": [
    {
     "data": {
      "text/plain": [
       "<matplotlib.legend.Legend at 0x1536bbc10>"
      ]
     },
     "execution_count": 52,
     "metadata": {},
     "output_type": "execute_result"
    },
    {
     "data": {
      "image/png": "[encoded data removed]",
      "text/plain": [
       "<Figure size 432x288 with 1 Axes>"
      ]
     },
     "metadata": {
      "needs_background": "light"
     },
     "output_type": "display_data"
    }
   ],
   "source": [
    "plt.plot(training_results.history['val_accuracy'],\n",
    "         label='Validation accuracy over iterations')\n",
    "plt.plot(training_results.history['val_loss'],\n",
    "         label='Validation loss over iterations')\n",
    "plt.legend()"
   ]
  },
  {
   "cell_type": "markdown",
   "metadata": {},
   "source": [
    "## Part 4: Testing with the Testing Set\n",
    "\n",
    "Now that the model is trained, we will use the testing set to test the results of the model's fitting process.\n"
   ]
  },
  {
   "cell_type": "code",
   "execution_count": 53,
   "metadata": {},
   "outputs": [
    {
     "name": "stderr",
     "output_type": "stream",
     "text": [
      "2021-10-28 10:02:34.674892: I tensorflow/core/grappler/optimizers/custom_graph_optimizer_registry.cc:112] Plugin optimizer for device_type GPU is enabled.\n"
     ]
    },
    {
     "name": "stdout",
     "output_type": "stream",
     "text": [
      "Percent correct: 50.493801%\n",
      "Number of incorrect predictions: 7068\n",
      "===Incorrect Predictions===\n",
      "Prediction was valid,\t where actual was invalid\t\tWord: hqlycmq\n",
      "Prediction was valid,\t where actual was invalid\t\tWord: hsgbdu\n",
      "Prediction was valid,\t where actual was invalid\t\tWord: iknmq\n",
      "Prediction was valid,\t where actual was invalid\t\tWord: tsyrevf\n",
      "Prediction was valid,\t where actual was invalid\t\tWord: rgqfpw\n"
     ]
    }
   ],
   "source": [
    "# Predict the testing data.\n",
    "test_predictions = model.predict(X_test)\n",
    "\n",
    "\n",
    "def unmap_word(word: list) -> str:\n",
    "    \"\"\"Returns a string from a list of numbers from 0 to 1 that represent the different letters of the alphabet.\n",
    "    \n",
    "    For numbers less than or equal to zero, they are skipped since they are not valid entries.\n",
    "    \"\"\"\n",
    "    result = \"\"\n",
    "    for num in word:\n",
    "        if num < 1:\n",
    "            continue\n",
    "        result = result + ascii_lowercase[int(num) - 1]\n",
    "    return result\n",
    "\n",
    "\n",
    "# Go through each of the predictions and store the number of predictions it got correct, and capture any failed\n",
    "# predictions for inspection.\n",
    "number_correct = 0\n",
    "errors = []\n",
    "for idx, prediction in enumerate(test_predictions):\n",
    "    actual = y_test[idx]\n",
    "    if prediction == actual:\n",
    "        number_correct += 1\n",
    "    else:\n",
    "        errors.append((idx, prediction, actual))\n",
    "\n",
    "# Calculate the accuracy percentage.\n",
    "accuracy_percentage = (number_correct / len(y_test)) * 100\n",
    "print(f\"Percent correct: {accuracy_percentage:02f}%\")\n",
    "print(f\"Number of incorrect predictions: {len(y_test) - number_correct}\")\n",
    "\n",
    "# Print the first five of the incorrect predictions.\n",
    "print(\"===Incorrect Predictions===\")\n",
    "for idx, pred, act in errors[:5]:\n",
    "    word = unmap_word(X_test[idx] * 26)\n",
    "    pred_str = \"valid\" if pred else \"invalid\"\n",
    "    act_str = \"valid\" if act else \"invalid\"\n",
    "    print(\n",
    "        f\"Prediction was {pred_str},\\t where actual was {act_str}\\t\\tWord: {word}\"\n",
    "    )\n"
   ]
  },
  {
   "cell_type": "markdown",
   "metadata": {},
   "source": [
    "## Part 5: Filtering Out \"Invalid\" Words in the Test Dictionary\n",
    "\n",
    "Now that we have model that seems to be reasonably accurate, we can use our test dictionary to filter out words\n",
    "that the network considers invalid.\n"
   ]
  },
  {
   "cell_type": "code",
   "execution_count": 54,
   "metadata": {},
   "outputs": [
    {
     "name": "stdout",
     "output_type": "stream",
     "text": [
      "['xewetov', 'rskyesphbdj', 'wudnanvo', 'does', 'doowkguy', 'qtasvymmeq', 'hihebuxa', 'kftealnlhnp', 'gevhenly', 'deacgiecj']\n"
     ]
    }
   ],
   "source": [
    "# Grab the contents of the test dictionary, which contains completely randomly-generated words from the random word\n",
    "# generator defined in random_strings. These words follow common syllabic structures and will be filtered according to\n",
    "# what the network defines as a valid word later.\n",
    "\n",
    "with open(\"test_dict.txt\", \"r\") as dict_file:\n",
    "    test_dict = [word.strip() for word in dict_file.readlines()]\n",
    "\n",
    "print(test_dict[:10])"
   ]
  },
  {
   "cell_type": "code",
   "execution_count": 56,
   "metadata": {},
   "outputs": [
    {
     "name": "stdout",
     "output_type": "stream",
     "text": [
      "Trimmed 0 invalid words from the test dictionary (now size 500).\n",
      "['xewetov', 'rskyesphbdj', 'wudnanvo', 'does', 'doowkguy', 'qtasvymmeq', 'hihebuxa', 'kftealnlhnp', 'gevhenly', 'deacgiecj']\n"
     ]
    },
    {
     "name": "stderr",
     "output_type": "stream",
     "text": [
      "2021-10-28 10:04:02.478920: I tensorflow/core/grappler/optimizers/custom_graph_optimizer_registry.cc:112] Plugin optimizer for device_type GPU is enabled.\n"
     ]
    }
   ],
   "source": [
    "# Encode the test_dict the same way we encoded the dataset.\n",
    "encoded_test = np.array([map_word(w) for w in test_dict if len(w) <= avg_length], dtype=object)\n",
    "encoded_test = pad_sequences(encoded_test, padding=\"post\", maxlen=avg_length)\n",
    "\n",
    "# Make predictions of the test_dict and collect all of the words it considered valid.\n",
    "dict_predictions = model.predict(encoded_test)\n",
    "valid_dictionary = []\n",
    "for idx, prediction in enumerate(dict_predictions):\n",
    "    if prediction == 0:\n",
    "        continue\n",
    "    valid_dictionary.append(test_dict[idx])\n",
    "\n",
    "# Print some of the valid words, as well as how big the list actually is.\n",
    "trim_count = len([w for w in test_dict if len(w) <= avg_length]) - len(valid_dictionary)\n",
    "print(\n",
    "    f\"Trimmed {trim_count} invalid words from the test dictionary (now size {len(test_dict)}).\"\n",
    ")\n",
    "print(valid_dictionary[:10])"
   ]
  },
  {
   "cell_type": "markdown",
   "metadata": {},
   "source": [
    "## Part 6: Using a GAN Model\n",
    "\n",
    "This approach will use a generative adversarial network (GAN) to generate words that look similar to words in the valid\n",
    "word dataset. Rather than trying to be deterministic like the previous model, this network will use random inputs to\n",
    "generate words."
   ]
  },
  {
   "cell_type": "code",
   "execution_count": null,
   "metadata": {},
   "outputs": [],
   "source": []
  }
 ],
 "metadata": {
  "interpreter": {
   "hash": "ae728774eee256562aff2651c76309c3916f29437b55f618701e1f4834ebef1b"
  },
  "kernelspec": {
   "display_name": "Python 3.9.7 64-bit ('env_tensorflow': conda)",
   "name": "python3"
  },
  "language_info": {
   "codemirror_mode": {
    "name": "ipython",
    "version": 3
   },
   "file_extension": ".py",
   "mimetype": "text/x-python",
   "name": "python",
   "nbconvert_exporter": "python",
   "pygments_lexer": "ipython3",
   "version": "3.9.7"
  }
 },
 "nbformat": 4,
 "nbformat_minor": 2
}
