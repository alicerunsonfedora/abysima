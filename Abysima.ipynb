{
 "cells": [
  {
   "cell_type": "markdown",
   "metadata": {
    "pycharm": {
     "name": "#%% md\n"
    }
   },
   "source": [
    "# Project Abysima: Generating a Language with Machine Learning\n",
    "\n",
    "The following notebook will experiment with generating a language using neural networks and generative deep learning.\n",
    "This is, by no means, a production-ready system, nor is it a complete network; rather, the purpose of this experiment\n",
    "is to see what is possible with creating a language.\n",
    "\n",
    "For more information on the process and supporting research, please refer to the Linguistics Paper document found in the\n",
    "`01 - Areas of Responsibility` directory.\n",
    "\n",
    "The following source code and datasets are licensed under the Mozilla Public License v2.0. Please refer to the LICENSE\n",
    "file that came with this repository for more information on what your rights are with usage and modification of this\n",
    "software. If a LICENSE file is not provided, you can obtain a copy at https://www.mozilla.org/en-US/MPL/2.0/.\n"
   ]
  },
  {
   "cell_type": "markdown",
   "metadata": {},
   "source": [
    "## Part 1: Initial Setup\n",
    "\n",
    "We'll need to write some utilities and codes that will allow us to generate, predict, and validate words. This\n",
    "section will allow us to do just that.\n"
   ]
  },
  {
   "cell_type": "code",
   "execution_count": 24,
   "metadata": {
    "scrolled": true
   },
   "outputs": [
    {
     "name": "stdout",
     "output_type": "stream",
     "text": [
      "Number of admissible words from outside_sources/words: 63248\n",
      "Number of total words including Japanese words: 63863\n"
     ]
    }
   ],
   "source": [
    "# Unix-based and Unix-like systems have a file on the computer that contains a list of words used for spell-checking.\n",
    "# This file is located in /usr/share/dict/words and contains various parts of speech, including proper nouns. For the\n",
    "# purposes of this experiment, a copy provided from an installation of Pop!_OS 20.04 LTS (based on Ubuntu) will be used.\n",
    "# If that file cannot be located, the file located on the system will be used instead.\n",
    "import os\n",
    "\n",
    "\n",
    "def is_admissible(word: str) -> bool:\n",
    "    \"\"\"Returns whether a word is considered admissible for the dataset.\n",
    "    \n",
    "    For the purposes of the dataset, a word is admissible if it conforms to the following:\n",
    "    - The word only contains ASCII characters; i.e., the word does not have any accents.\n",
    "    - The word only contains letters in the alphabet\n",
    "    - The word is not a proper noun or acronym (i.e., the word doesn't have uppercase letters)\n",
    "    - The word is not a contraction.\n",
    "    \"\"\"\n",
    "    real_word = word.strip()\n",
    "    return real_word.isascii() and real_word.isalpha() and real_word.islower(\n",
    "    ) and not real_word.endswith(\"'s\")\n",
    "\n",
    "\n",
    "# Open the words file and grab all of the admissible words.\n",
    "WORDS_FILE = \"outside_sources/words\" if os.path.isfile(\n",
    "    \"outside_sources/words\") else \"/usr/share/dict/words\"\n",
    "with open(WORDS_FILE, 'r') as words:\n",
    "    valid_words = [\n",
    "        w.strip().lower() for w in words.readlines() if is_admissible(w)\n",
    "    ]\n",
    "print(f\"Number of admissible words from {WORDS_FILE}: {len(valid_words)}\")\n",
    "\n",
    "# Open the converted dataset from the Wiktionary page and import that into the list of valid words.\n",
    "with open(\"outside_sources/jp-romaji.txt\") as jp_data:\n",
    "    valid_words += [w.strip().lower() for w in jp_data.readlines()]\n",
    "\n",
    "print(f\"Number of total words including Japanese words: {len(valid_words)}\")\n"
   ]
  },
  {
   "cell_type": "code",
   "execution_count": 25,
   "metadata": {
    "scrolled": false
   },
   "outputs": [],
   "source": [
    "# Create a bunch of nonsencial words that are not valid.\n",
    "from random import randrange\n",
    "from string import ascii_lowercase\n",
    "\n",
    "\n",
    "def random_string(max_size: int) -> str:\n",
    "    \"\"\"Returns a string of a random length between 3 and 12 characters, with no syllabic structure in mind.\"\"\"\n",
    "    length = randrange(3, max_size)\n",
    "    string = \"\"\n",
    "    for _ in range(length):\n",
    "        next_index = randrange(0, len(ascii_lowercase) - 1)\n",
    "        string += ascii_lowercase[next_index]\n",
    "    return string\n",
    "\n",
    "# Assemble the dataset with the valid and invalid words. Words that are valid will be marked as 1 for its output,\n",
    "# and words that are not valid are marked as 0 for its output.\n",
    "from string import ascii_lowercase\n",
    "import numpy as np\n",
    "\n",
    "\n",
    "def map_word(word: str) -> list:\n",
    "    \"\"\"Returns a list of numbers from 1 to 26 that represent the various letters in the alphabet.\"\"\"\n",
    "    get_idx = lambda i: ascii_lowercase.index(i) + 1\n",
    "    return [get_idx(c) for c in word]\n",
    "\n",
    "\n",
    "# Fill any shorter words with the maximum length of the words. For words shorter than the word with the most\n",
    "# characters, a 0 will be subsistuted to keep the length of features consistent.\n",
    "def fill_word_features(word: list, fill_length: int) -> list:\n",
    "    if len(word) >= fill_length:\n",
    "        return word\n",
    "    diff = fill_length - len(word)\n",
    "    return [0 for i in range(diff)] + word"
   ]
  },
  {
   "cell_type": "code",
   "execution_count": 26,
   "metadata": {
    "scrolled": true
   },
   "outputs": [
    {
     "name": "stdout",
     "output_type": "stream",
     "text": [
      "Average word length: 8\n",
      "Filtered dataset size based on average length: 35779\n",
      "['phpx', 'lxh', 'pfw', 'ajlrm', 'lkph', 'qsx', 'jlo', 'ojjrp', 'lfpanr', 'nsoig']\n",
      "[[0.         0.         0.         0.07692308 0.61538462 0.96153846\n",
      "  0.03846154 0.69230769]\n",
      " [0.         0.73076923 0.03846154 0.23076923 0.03846154 0.69230769\n",
      "  0.34615385 0.73076923]]\n",
      "[0 1]\n"
     ]
    }
   ],
   "source": [
    "# Get the average length of words in the dataset, and filter out any words larger than the average length.\n",
    "avg_length = sum([len(str(w)) for w in valid_words]) // len(valid_words)\n",
    "print(f\"Average word length: {avg_length}\")\n",
    "valid_words = [w for w in valid_words if len(w) <= avg_length]\n",
    "print(f\"Filtered dataset size based on average length: {len(valid_words)}\")\n",
    "\n",
    "# Create nonsensical words that match the average length.\n",
    "invalid = [random_string(avg_length) for _ in range(len(valid_words))]\n",
    "print(invalid[:10])\n",
    "\n",
    "# Encode the data set into a format that the neural network will be able to understand.\n",
    "encoded_correct = [map_word(str(word)) for word in valid_words]\n",
    "encoded_correct = [fill_word_features(w, avg_length) for w in encoded_correct]\n",
    "\n",
    "encoded_invalid = [map_word(str(word)) for word in invalid]\n",
    "encoded_invalid = [fill_word_features(w, avg_length) for w in encoded_invalid]\n",
    "\n",
    "# Map the values with their corresponding outputs.\n",
    "mapped_correct = [word + [1] for word in encoded_correct]\n",
    "mapped_invalid = [word + [0] for word in encoded_invalid]\n",
    "\n",
    "dataset = mapped_correct + mapped_invalid\n",
    "\n",
    "# Shuffle the dataset around.\n",
    "from random import shuffle\n",
    "for _ in range(20):\n",
    "    shuffle(dataset)\n",
    "\n",
    "# Cast the dataset to a numpy array, and split the features from the expected output.\n",
    "dataset = np.array(dataset)\n",
    "X = dataset[:, :-1]\n",
    "Y = dataset[:, -1]\n",
    "\n",
    "# Divide values by 26 (the number of letters in the alphabet). Doing this will make sure our data remains consistent,\n",
    "# and that we are not stating that Z is 26 times more important and A. This process is known as normalization.\n",
    "X = X / 26\n",
    "\n",
    "# Print the first two entries in the dataset as an example.\n",
    "print(X[:2])\n",
    "print(Y[:2])"
   ]
  },
  {
   "cell_type": "markdown",
   "metadata": {},
   "source": [
    "## Part 2: Splitting Models for Validation and Testing\n",
    "\n",
    "In order to prevent the neural network we will generate from overcorrecting itself or memorizing the data we give\n",
    "it, we will create three different sets of the dataset: a training set, a validation set, and a testing set. The\n",
    "training set will be used to train the model, and the model will use the validation set occasionally to validate\n",
    "that it isn't overfitting. We will then use the testing set to test out the model and see what comes out of it.\n",
    "\n",
    "To accomplish this, we will use a 60% training/20% validation/20% testing split for the datasets.\n"
   ]
  },
  {
   "cell_type": "code",
   "execution_count": 27,
   "metadata": {},
   "outputs": [],
   "source": [
    "# Split the data in training and testing data. When we fit the model, we can specify a validation set.\n",
    "from sklearn.model_selection import train_test_split\n",
    "\n",
    "X_train, X_test, y_train, y_test = train_test_split(X, Y, test_size=0.2)"
   ]
  },
  {
   "cell_type": "markdown",
   "metadata": {},
   "source": [
    "## Part 3: Creating The Predictive Model\n",
    "\n",
    "Now that we have a dataset, we will create the neural network model with Keras and fit it using the training data.\n",
    "This will also use a small portion of that data for validation purposes.\n"
   ]
  },
  {
   "cell_type": "code",
   "execution_count": 28,
   "metadata": {},
   "outputs": [
    {
     "name": "stdout",
     "output_type": "stream",
     "text": [
      "2.6.0\n",
      "Model: \"Abysima_2\"\n",
      "_________________________________________________________________\n",
      "Layer (type)                 Output Shape              Param #   \n",
      "=================================================================\n",
      "dense_6 (Dense)              (None, 8)                 72        \n",
      "_________________________________________________________________\n",
      "dense_7 (Dense)              (None, 32)                288       \n",
      "_________________________________________________________________\n",
      "dense_8 (Dense)              (None, 1)                 33        \n",
      "=================================================================\n",
      "Total params: 393\n",
      "Trainable params: 393\n",
      "Non-trainable params: 0\n",
      "_________________________________________________________________\n"
     ]
    }
   ],
   "source": [
    "# Start by creating the model.\n",
    "from tensorflow import keras\n",
    "from tensorflow.keras.layers import Dense\n",
    "from tensorflow.keras.callbacks import EarlyStopping\n",
    "\n",
    "print(keras.__version__)\n",
    "\n",
    "model = keras.Sequential(name=\"Abysima_2\")\n",
    "model.add(Dense(avg_length, input_dim=avg_length, activation='relu'))\n",
    "model.add(Dense(avg_length * 4, activation='relu'))\n",
    "# model.add(Dense(max_len/4, activation='relu'))\n",
    "model.add(Dense(1, activation='softmax'))\n",
    "\n",
    "# Create an early stopping mechanism to stop early if accuracy isn't improving after a certain point. This prevents\n",
    "# unnecessary computations.\n",
    "stop_early = EarlyStopping(monitor='accuracy', patience=7)\n",
    "\n",
    "# Compile the model.\n",
    "model.compile(loss='binary_crossentropy',\n",
    "              optimizer='adam',\n",
    "              metrics=['accuracy'])\n",
    "model.summary()"
   ]
  },
  {
   "cell_type": "code",
   "execution_count": 29,
   "metadata": {
    "scrolled": false
   },
   "outputs": [
    {
     "name": "stdout",
     "output_type": "stream",
     "text": [
      "Epoch 1/100\n",
      " 22/716 [..............................] - ETA: 3s - loss: 0.6949 - accuracy: 0.5156"
     ]
    },
    {
     "name": "stderr",
     "output_type": "stream",
     "text": [
      "2021-10-26 11:55:49.412452: I tensorflow/core/grappler/optimizers/custom_graph_optimizer_registry.cc:112] Plugin optimizer for device_type GPU is enabled.\n"
     ]
    },
    {
     "name": "stdout",
     "output_type": "stream",
     "text": [
      "716/716 [==============================] - ETA: 0s - loss: 0.5967 - accuracy: 0.5013"
     ]
    },
    {
     "name": "stderr",
     "output_type": "stream",
     "text": [
      "2021-10-26 11:55:52.738836: I tensorflow/core/grappler/optimizers/custom_graph_optimizer_registry.cc:112] Plugin optimizer for device_type GPU is enabled.\n"
     ]
    },
    {
     "name": "stdout",
     "output_type": "stream",
     "text": [
      "716/716 [==============================] - 4s 5ms/step - loss: 0.5967 - accuracy: 0.5013 - val_loss: 0.5469 - val_accuracy: 0.4955\n",
      "Epoch 2/100\n",
      "716/716 [==============================] - 4s 5ms/step - loss: 0.5326 - accuracy: 0.5013 - val_loss: 0.5276 - val_accuracy: 0.4955\n",
      "Epoch 3/100\n",
      "716/716 [==============================] - 4s 5ms/step - loss: 0.5214 - accuracy: 0.5013 - val_loss: 0.5221 - val_accuracy: 0.4955\n",
      "Epoch 4/100\n",
      "716/716 [==============================] - 4s 5ms/step - loss: 0.5163 - accuracy: 0.5013 - val_loss: 0.5184 - val_accuracy: 0.4955\n",
      "Epoch 5/100\n",
      "716/716 [==============================] - 4s 5ms/step - loss: 0.5127 - accuracy: 0.5013 - val_loss: 0.5151 - val_accuracy: 0.4955\n",
      "Epoch 6/100\n",
      "716/716 [==============================] - 4s 5ms/step - loss: 0.5107 - accuracy: 0.5013 - val_loss: 0.5156 - val_accuracy: 0.4955\n",
      "Epoch 7/100\n",
      "716/716 [==============================] - 4s 5ms/step - loss: 0.5086 - accuracy: 0.5013 - val_loss: 0.5102 - val_accuracy: 0.4955\n",
      "Epoch 8/100\n",
      "716/716 [==============================] - 4s 5ms/step - loss: 0.5068 - accuracy: 0.5013 - val_loss: 0.5090 - val_accuracy: 0.4955\n"
     ]
    }
   ],
   "source": [
    "# Fit the model to our dataset. In this instance, the model will run a batch gradient descent learning algorithm\n",
    "# for 100 epochs with a determined batch size. Additionally, it will set aside 20% of the data for validation.\n",
    "training_results = model.fit(X_train,\n",
    "                             y_train,\n",
    "                             epochs=100,\n",
    "                             batch_size=64,\n",
    "                             verbose=1,\n",
    "                             validation_split=0.2,\n",
    "                             callbacks=[stop_early])\n"
   ]
  },
  {
   "cell_type": "code",
   "execution_count": 30,
   "metadata": {},
   "outputs": [
    {
     "data": {
      "text/plain": [
       "<matplotlib.legend.Legend at 0x11fd5bd90>"
      ]
     },
     "execution_count": 30,
     "metadata": {},
     "output_type": "execute_result"
    },
    {
     "data": {
      "image/png": "[encoded data removed]",
      "text/plain": [
       "<Figure size 432x288 with 1 Axes>"
      ]
     },
     "metadata": {
      "needs_background": "light"
     },
     "output_type": "display_data"
    }
   ],
   "source": [
    "# Plot the accuracy and loss changes for comparison. If we see an overlap, there may be overfitting involved.\n",
    "from matplotlib import pyplot as plt\n",
    "\n",
    "plt.plot(training_results.history['accuracy'],\n",
    "         label='Accuracy over iterations')\n",
    "plt.plot(training_results.history['loss'], label='Loss over iterations')\n",
    "plt.legend()"
   ]
  },
  {
   "cell_type": "code",
   "execution_count": 31,
   "metadata": {},
   "outputs": [
    {
     "data": {
      "text/plain": [
       "<matplotlib.legend.Legend at 0x12a2e9eb0>"
      ]
     },
     "execution_count": 31,
     "metadata": {},
     "output_type": "execute_result"
    },
    {
     "data": {
      "image/png": "[encoded data removed]",
      "text/plain": [
       "<Figure size 432x288 with 1 Axes>"
      ]
     },
     "metadata": {
      "needs_background": "light"
     },
     "output_type": "display_data"
    }
   ],
   "source": [
    "plt.plot(training_results.history['val_accuracy'],\n",
    "         label='Validation accuracy over iterations')\n",
    "plt.plot(training_results.history['val_loss'],\n",
    "         label='Validation loss over iterations')\n",
    "plt.legend()"
   ]
  },
  {
   "cell_type": "markdown",
   "metadata": {},
   "source": [
    "## Part 4: Testing with the Testing Set\n",
    "\n",
    "Now that the model is trained, we will use the testing set to test the results of the model's fitting process.\n"
   ]
  },
  {
   "cell_type": "code",
   "execution_count": 32,
   "metadata": {},
   "outputs": [
    {
     "name": "stderr",
     "output_type": "stream",
     "text": [
      "2021-10-26 11:56:18.760175: I tensorflow/core/grappler/optimizers/custom_graph_optimizer_registry.cc:112] Plugin optimizer for device_type GPU is enabled.\n"
     ]
    },
    {
     "name": "stdout",
     "output_type": "stream",
     "text": [
      "Percent correct: 49.951090%\n",
      "Number of incorrect predictions: 7163\n",
      "===Incorrect Predictions===\n",
      "Prediction was valid,\t where actual was invalid\t\tWord: lah\n",
      "Prediction was valid,\t where actual was invalid\t\tWord: rpw\n",
      "Prediction was valid,\t where actual was invalid\t\tWord: tassuqv\n",
      "Prediction was valid,\t where actual was invalid\t\tWord: meb\n",
      "Prediction was valid,\t where actual was invalid\t\tWord: wmvm\n"
     ]
    }
   ],
   "source": [
    "# Predict the testing data.\n",
    "test_predictions = model.predict(X_test)\n",
    "\n",
    "\n",
    "def unmap_word(word: list) -> str:\n",
    "    \"\"\"Returns a string from a list of numbers from 0 to 1 that represent the different letters of the alphabet.\n",
    "    \n",
    "    For numbers less than or equal to zero, they are skipped since they are not valid entries.\n",
    "    \"\"\"\n",
    "    result = \"\"\n",
    "    for num in word:\n",
    "        if num < 1:\n",
    "            continue\n",
    "        result = result + ascii_lowercase[int(num) - 1]\n",
    "    return result\n",
    "\n",
    "\n",
    "# Go through each of the predictions and store the number of predictions it got correct, and capture any failed\n",
    "# predictions for inspection.\n",
    "number_correct = 0\n",
    "errors = []\n",
    "for idx, prediction in enumerate(test_predictions):\n",
    "    actual = y_test[idx]\n",
    "    if prediction == actual:\n",
    "        number_correct += 1\n",
    "    else:\n",
    "        errors.append((idx, prediction, actual))\n",
    "\n",
    "# Calculate the accuracy percentage.\n",
    "accuracy_percentage = (number_correct / len(y_test)) * 100\n",
    "print(f\"Percent correct: {accuracy_percentage:02f}%\")\n",
    "print(f\"Number of incorrect predictions: {len(y_test) - number_correct}\")\n",
    "\n",
    "# Print the first five of the incorrect predictions.\n",
    "print(\"===Incorrect Predictions===\")\n",
    "for idx, pred, act in errors[:5]:\n",
    "    word = unmap_word(X_test[idx] * 26)\n",
    "    pred_str = \"valid\" if pred else \"invalid\"\n",
    "    act_str = \"valid\" if act else \"invalid\"\n",
    "    print(\n",
    "        f\"Prediction was {pred_str},\\t where actual was {act_str}\\t\\tWord: {word}\"\n",
    "    )\n"
   ]
  },
  {
   "cell_type": "markdown",
   "metadata": {},
   "source": [
    "## Part 5: Filtering Out \"Invalid\" Words in the Test Dictionary\n",
    "\n",
    "Now that we have model that seems to be reasonably accurate, we can use our test dictionary to filter out words\n",
    "that the network considers invalid.\n"
   ]
  },
  {
   "cell_type": "code",
   "execution_count": 33,
   "metadata": {},
   "outputs": [
    {
     "name": "stdout",
     "output_type": "stream",
     "text": [
      "['xewetov', 'rskyesphbdj', 'wudnanvo', 'does', 'doowkguy', 'qtasvymmeq', 'hihebuxa', 'kftealnlhnp', 'gevhenly', 'deacgiecj']\n"
     ]
    }
   ],
   "source": [
    "# Grab the contents of the test dictionary, which contains completely randomly-generated words from the random word\n",
    "# generator defined in random_strings. These words follow common syllabic structures and will be filtered according to\n",
    "# what the network defines as a valid word later.\n",
    "\n",
    "with open(\"test_dict.txt\", \"r\") as dict_file:\n",
    "    test_dict = [word.strip() for word in dict_file.readlines()]\n",
    "\n",
    "print(test_dict[:10])"
   ]
  },
  {
   "cell_type": "code",
   "execution_count": 34,
   "metadata": {},
   "outputs": [
    {
     "name": "stdout",
     "output_type": "stream",
     "text": [
      "Trimmed 251 invalid words from the test dictionary (now size 500).\n",
      "['xewetov', 'rskyesphbdj', 'wudnanvo', 'does', 'doowkguy', 'qtasvymmeq', 'hihebuxa', 'kftealnlhnp', 'gevhenly', 'deacgiecj']\n"
     ]
    },
    {
     "name": "stderr",
     "output_type": "stream",
     "text": [
      "2021-10-26 11:56:19.200099: I tensorflow/core/grappler/optimizers/custom_graph_optimizer_registry.cc:112] Plugin optimizer for device_type GPU is enabled.\n"
     ]
    }
   ],
   "source": [
    "# Encode the test_dict the same way we encoded the dataset.\n",
    "encoded_test = [map_word(w) for w in test_dict if len(w) <= avg_length]\n",
    "encoded_test = [fill_word_features(w, avg_length) for w in encoded_test]\n",
    "\n",
    "# Make predictions of the test_dict and collect all of the words it considered valid.\n",
    "dict_predictions = model.predict(encoded_test)\n",
    "valid_dictionary = []\n",
    "for idx, prediction in enumerate(dict_predictions):\n",
    "    if prediction == 0:\n",
    "        continue\n",
    "    valid_dictionary.append(test_dict[idx])\n",
    "\n",
    "# Print some of the valid words, as well as how big the list actually is.\n",
    "trim_count = len(test_dict) - len(valid_dictionary)\n",
    "print(\n",
    "    f\"Trimmed {trim_count} invalid words from the test dictionary (now size {len(test_dict)}).\"\n",
    ")\n",
    "print(valid_dictionary[:10])"
   ]
  },
  {
   "cell_type": "markdown",
   "metadata": {},
   "source": [
    "## Part 6: Using a GAN Model\n",
    "\n",
    "This approach will use a generative adversarial network (GAN) to generate words that look similar to words in the valid\n",
    "word dataset. Rather than trying to be deterministic like the previous model, this network will use random inputs to\n",
    "generate words."
   ]
  },
  {
   "cell_type": "code",
   "execution_count": null,
   "metadata": {},
   "outputs": [],
   "source": []
  }
 ],
 "metadata": {
  "interpreter": {
   "hash": "ae728774eee256562aff2651c76309c3916f29437b55f618701e1f4834ebef1b"
  },
  "kernelspec": {
   "display_name": "Python 3.9.7 64-bit ('env_tensorflow': conda)",
   "name": "python3"
  },
  "language_info": {
   "codemirror_mode": {
    "name": "ipython",
    "version": 3
   },
   "file_extension": ".py",
   "mimetype": "text/x-python",
   "name": "python",
   "nbconvert_exporter": "python",
   "pygments_lexer": "ipython3",
   "version": "3.9.7"
  }
 },
 "nbformat": 4,
 "nbformat_minor": 2
}
